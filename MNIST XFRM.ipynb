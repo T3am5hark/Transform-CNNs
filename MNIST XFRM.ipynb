{
 "cells": [
  {
   "cell_type": "code",
   "execution_count": 1,
   "metadata": {},
   "outputs": [
    {
     "name": "stderr",
     "output_type": "stream",
     "text": [
      "Using TensorFlow backend.\n"
     ]
    }
   ],
   "source": [
    "%matplotlib inline\n",
    "from sklearn.preprocessing import LabelBinarizer\n",
    "from sklearn.model_selection import train_test_split\n",
    "from sklearn.metrics import classification_report\n",
    "from keras.models import Sequential\n",
    "from keras.layers.core import Dense, Dropout, Activation, Flatten\n",
    "from keras.layers.convolutional import Conv2D, MaxPooling2D\n",
    "from keras.optimizers import SGD\n",
    "from keras import regularizers\n",
    "from sklearn import datasets\n",
    "\n",
    "import matplotlib.pyplot as plt\n",
    "import numpy as np\n",
    "\n",
    "import cv2\n",
    "\n",
    "import time\n",
    "\n",
    "from imageutils import block_dct\n",
    "from imageutils import dataset_transform_block_dct\n",
    "\n",
    "import random"
   ]
  },
  {
   "cell_type": "code",
   "execution_count": 2,
   "metadata": {},
   "outputs": [],
   "source": [
    "def show_2d(im, figsize_x=3, cmap='Greys'):\n",
    "    plt.figure(figsize=(figsize_x, figsize_x))\n",
    "    plt.imshow(im, cmap=cmap)\n",
    "    plt.show()"
   ]
  },
  {
   "cell_type": "code",
   "execution_count": 3,
   "metadata": {},
   "outputs": [],
   "source": [
    "def show_flattened(im, figsize_x=3, cmap='Greys'):\n",
    "    im = im.reshape(28,28)\n",
    "    show_2d(im, figsize_x, cmap)"
   ]
  },
  {
   "cell_type": "code",
   "execution_count": 4,
   "metadata": {},
   "outputs": [],
   "source": [
    "def diagnose(im):\n",
    "    pred = model.predict(im, batch_size=1)\n",
    "    print('Predicted {0}'.format(pred.argmax(axis=1)))\n",
    "    show_flattened(im)"
   ]
  },
  {
   "cell_type": "code",
   "execution_count": 5,
   "metadata": {},
   "outputs": [],
   "source": [
    "def stopwatch(value, fmt_string='{days}d:{hours}h:{minutes}m:{seconds}s'):\n",
    "    '''From seconds to Days;Hours:Minutes;Seconds'''\n",
    "\n",
    "    valueD = (((value/365)/24)/60)\n",
    "    days = int (valueD)\n",
    "\n",
    "    valueH = (valueD-days)*365\n",
    "    hours = int(valueH)\n",
    "\n",
    "    valueM = (valueH - hours)*24\n",
    "    minutes = int(valueM)\n",
    "\n",
    "    valueS = (valueM - minutes)*60\n",
    "    seconds = int(valueS)\n",
    "    data = {'days': days, 'hours': hours, 'minutes': minutes, 'seconds':seconds}\n",
    "\n",
    "\n",
    "    print (fmt_string.format(**data))"
   ]
  },
  {
   "cell_type": "code",
   "execution_count": 6,
   "metadata": {},
   "outputs": [
    {
     "name": "stdout",
     "output_type": "stream",
     "text": [
      "[INFO] loading MNIST full dataset...\n"
     ]
    }
   ],
   "source": [
    "print('[INFO] loading MNIST full dataset...')\n",
    "dataset = datasets.fetch_mldata(\"MNIST Original\")"
   ]
  },
  {
   "cell_type": "code",
   "execution_count": 7,
   "metadata": {},
   "outputs": [
    {
     "name": "stdout",
     "output_type": "stream",
     "text": [
      "4\n",
      "(70000, 784)\n",
      "<class 'numpy.ndarray'>\n"
     ]
    }
   ],
   "source": [
    "print(len(dataset))\n",
    "print(dataset.data.shape)\n",
    "print(dataset.data.__class__)"
   ]
  },
  {
   "cell_type": "code",
   "execution_count": 8,
   "metadata": {},
   "outputs": [],
   "source": [
    "# Reshape for CNN\n",
    "data = dataset.data.astype(\"float\").reshape(70000, 28, 28, 1) / 255.0\n",
    "#data = 1.0-data\n",
    "(trainX, testX, trainY, testY) = train_test_split(data, dataset.target, test_size=0.33)"
   ]
  },
  {
   "cell_type": "code",
   "execution_count": 47,
   "metadata": {},
   "outputs": [
    {
     "name": "stdout",
     "output_type": "stream",
     "text": [
      "(28, 28, 1)\n",
      "(48, 48, 1)\n"
     ]
    },
    {
     "data": {
      "image/png": "[encoded data removed]",
      "text/plain": [
       "<Figure size 216x216 with 1 Axes>"
      ]
     },
     "metadata": {},
     "output_type": "display_data"
    },
    {
     "data": {
      "image/png": "[encoded data removed]",
      "text/plain": [
       "<Figure size 216x216 with 1 Axes>"
      ]
     },
     "metadata": {},
     "output_type": "display_data"
    }
   ],
   "source": [
    "idx = random.randint(0,trainX.shape[0])\n",
    "\n",
    "im = trainX[idx,:,:,:]\n",
    "print(im.shape)\n",
    "\n",
    "im_dct = block_dct(im)\n",
    "print(im_dct.shape)\n",
    "\n",
    "show_2d(im.reshape(28,28))\n",
    "show_2d(im_dct.reshape((48,48)))\n"
   ]
  },
  {
   "cell_type": "code",
   "execution_count": 14,
   "metadata": {},
   "outputs": [
    {
     "name": "stdout",
     "output_type": "stream",
     "text": [
      "(70000, 28, 28, 1)\n",
      "(46900, 28, 28, 1)\n",
      "(23100, 28, 28, 1)\n"
     ]
    }
   ],
   "source": [
    "print(data.shape)\n",
    "print(trainX.shape)\n",
    "print(testX.shape)"
   ]
  },
  {
   "cell_type": "code",
   "execution_count": 15,
   "metadata": {},
   "outputs": [],
   "source": [
    "trainX_dct = dataset_transform_block_dct(trainX, dct_size=8, stride=4)\n",
    "testX_dct = dataset_transform_block_dct(testX, dct_size=8, stride=4)"
   ]
  },
  {
   "cell_type": "code",
   "execution_count": 16,
   "metadata": {},
   "outputs": [
    {
     "name": "stdout",
     "output_type": "stream",
     "text": [
      "(46900, 48, 48, 1)\n",
      "(23100, 48, 48, 1)\n"
     ]
    }
   ],
   "source": [
    "print(trainX_dct.shape)\n",
    "print(testX_dct.shape)"
   ]
  },
  {
   "cell_type": "code",
   "execution_count": 17,
   "metadata": {},
   "outputs": [
    {
     "name": "stdout",
     "output_type": "stream",
     "text": [
      "(46900, 10)\n",
      "(23100, 10)\n",
      "[0. 1. 2. 3. 4. 5. 6. 7. 8. 9.]\n",
      "(10,)\n"
     ]
    }
   ],
   "source": [
    "# Transform labels from int to one-hot vectors\n",
    "lb = LabelBinarizer()\n",
    "trainY = lb.fit_transform(trainY)\n",
    "testY = lb.fit_transform(testY)\n",
    "\n",
    "print(trainY.shape)\n",
    "print(testY.shape)\n",
    "\n",
    "print(lb.classes_)\n",
    "print(lb.classes_.shape)"
   ]
  },
  {
   "cell_type": "code",
   "execution_count": 33,
   "metadata": {},
   "outputs": [],
   "source": [
    "# \"Transform\" CNN architecture with Keras\n",
    "model = Sequential()\n",
    "model.add(Conv2D(input_shape=(48,48,1), filters=32,  \n",
    "                 use_bias=True, kernel_size=(5,5), strides=8))\n",
    "model.add(Activation('relu'))\n",
    "model.add(Dropout(0.1))\n",
    "model.add(Flatten())\n",
    "model.add(Dense(256))\n",
    "model.add(Activation('relu'))\n",
    "model.add(Dropout(0.2))\n",
    "model.add(Dense(lb.classes_.shape[0], activation=\"softmax\"))\n",
    "model.compile(loss='categorical_crossentropy', optimizer='adam', metrics=['accuracy'])"
   ]
  },
  {
   "cell_type": "code",
   "execution_count": 34,
   "metadata": {},
   "outputs": [
    {
     "name": "stdout",
     "output_type": "stream",
     "text": [
      "Layer 0: <class 'keras.layers.convolutional.Conv2D'>\n",
      "    input=(None, 48, 48, 1)\n",
      "    output=(None, 6, 6, 32)\n",
      "    act=<function linear at 0x7f4b7e603c80>\n",
      "    strides=(8, 8)\n",
      "Layer 1: <class 'keras.layers.core.Activation'>\n",
      "    input=(None, 6, 6, 32)\n",
      "    output=(None, 6, 6, 32)\n",
      "    act=<function relu at 0x7f4b7e603a60>\n",
      "Layer 2: <class 'keras.layers.core.Dropout'>\n",
      "    input=(None, 6, 6, 32)\n",
      "    output=(None, 6, 6, 32)\n",
      "    rate=0.1\n",
      "Layer 3: <class 'keras.layers.core.Flatten'>\n",
      "    input=(None, 6, 6, 32)\n",
      "    output=(None, 1152)\n",
      "Layer 4: <class 'keras.layers.core.Dense'>\n",
      "    input=(None, 1152)\n",
      "    output=(None, 256)\n",
      "    act=<function linear at 0x7f4b7e603c80>\n",
      "Layer 5: <class 'keras.layers.core.Activation'>\n",
      "    input=(None, 256)\n",
      "    output=(None, 256)\n",
      "    act=<function relu at 0x7f4b7e603a60>\n",
      "Layer 6: <class 'keras.layers.core.Dropout'>\n",
      "    input=(None, 256)\n",
      "    output=(None, 256)\n",
      "    rate=0.2\n",
      "Layer 7: <class 'keras.layers.core.Dense'>\n",
      "    input=(None, 256)\n",
      "    output=(None, 10)\n",
      "    act=<function softmax at 0x7f4b7e6037b8>\n"
     ]
    }
   ],
   "source": [
    "from kerasutils import describe_model\n",
    "\n",
    "describe_model(model)"
   ]
  },
  {
   "cell_type": "code",
   "execution_count": 35,
   "metadata": {},
   "outputs": [
    {
     "name": "stdout",
     "output_type": "stream",
     "text": [
      "Train on 46900 samples, validate on 23100 samples\n",
      "Epoch 1/10\n",
      "46900/46900 [==============================] - 3s 69us/step - loss: 0.3469 - acc: 0.9020 - val_loss: 0.1331 - val_acc: 0.9615\n",
      "Epoch 2/10\n",
      "46900/46900 [==============================] - 3s 62us/step - loss: 0.1150 - acc: 0.9653 - val_loss: 0.0791 - val_acc: 0.9766\n",
      "Epoch 3/10\n",
      "46900/46900 [==============================] - 3s 62us/step - loss: 0.0772 - acc: 0.9761 - val_loss: 0.0679 - val_acc: 0.9799\n",
      "Epoch 4/10\n",
      "46900/46900 [==============================] - 3s 62us/step - loss: 0.0599 - acc: 0.9816 - val_loss: 0.0571 - val_acc: 0.9826\n",
      "Epoch 5/10\n",
      "46900/46900 [==============================] - 3s 62us/step - loss: 0.0472 - acc: 0.9856 - val_loss: 0.0546 - val_acc: 0.9828\n",
      "Epoch 6/10\n",
      "46900/46900 [==============================] - 3s 62us/step - loss: 0.0396 - acc: 0.9874 - val_loss: 0.0484 - val_acc: 0.9853\n",
      "Epoch 7/10\n",
      "46900/46900 [==============================] - 3s 62us/step - loss: 0.0339 - acc: 0.9888 - val_loss: 0.0456 - val_acc: 0.9862\n",
      "Epoch 8/10\n",
      "46900/46900 [==============================] - 3s 62us/step - loss: 0.0281 - acc: 0.9908 - val_loss: 0.0491 - val_acc: 0.9852\n",
      "Epoch 9/10\n",
      "46900/46900 [==============================] - 3s 62us/step - loss: 0.0253 - acc: 0.9916 - val_loss: 0.0457 - val_acc: 0.9873\n",
      "Epoch 10/10\n",
      "46900/46900 [==============================] - 3s 62us/step - loss: 0.0227 - acc: 0.9926 - val_loss: 0.0465 - val_acc: 0.9863\n",
      "Done!!!\n",
      "0d:0h:0m:29s\n"
     ]
    }
   ],
   "source": [
    "# Transform-based\n",
    "\n",
    "start = time.time()\n",
    "n_epochs = 10\n",
    "batch_size = 128\n",
    "H = model.fit(trainX_dct, trainY, validation_data=(testX_dct, testY), \n",
    "              epochs=n_epochs, batch_size=batch_size)\n",
    "end = time.time()\n",
    "print('Done!!!')\n",
    "stopwatch(end-start)\n"
   ]
  },
  {
   "cell_type": "code",
   "execution_count": 36,
   "metadata": {},
   "outputs": [
    {
     "name": "stdout",
     "output_type": "stream",
     "text": [
      "[INFO] Evaluating network...\n",
      "             precision    recall  f1-score   support\n",
      "\n",
      "        0.0       0.99      0.99      0.99      2309\n",
      "        1.0       0.99      0.99      0.99      2624\n",
      "        2.0       0.97      1.00      0.99      2257\n",
      "        3.0       0.99      0.98      0.98      2390\n",
      "        4.0       0.99      0.98      0.99      2254\n",
      "        5.0       0.99      0.99      0.99      2086\n",
      "        6.0       0.99      0.99      0.99      2285\n",
      "        7.0       0.99      0.99      0.99      2388\n",
      "        8.0       0.98      0.98      0.98      2249\n",
      "        9.0       0.98      0.98      0.98      2258\n",
      "\n",
      "avg / total       0.99      0.99      0.99     23100\n",
      "\n"
     ]
    }
   ],
   "source": [
    "# Evaluate TEST model class prediction accuracy\n",
    "print(\"[INFO] Evaluating network...\")\n",
    "predictions = model.predict(testX_dct, batch_size=batch_size)\n",
    "print(classification_report(testY.argmax(axis=1),\n",
    "                            predictions.argmax(axis=1),\n",
    "                            target_names=[str(x) for x in lb.classes_]))"
   ]
  },
  {
   "cell_type": "code",
   "execution_count": 38,
   "metadata": {},
   "outputs": [
    {
     "name": "stdout",
     "output_type": "stream",
     "text": [
      "[INFO] Evaluating network...\n",
      "             precision    recall  f1-score   support\n",
      "\n",
      "        0.0       1.00      1.00      1.00      4594\n",
      "        1.0       1.00      1.00      1.00      5253\n",
      "        2.0       1.00      1.00      1.00      4733\n",
      "        3.0       1.00      1.00      1.00      4751\n",
      "        4.0       1.00      1.00      1.00      4570\n",
      "        5.0       1.00      1.00      1.00      4227\n",
      "        6.0       1.00      1.00      1.00      4591\n",
      "        7.0       1.00      1.00      1.00      4905\n",
      "        8.0       1.00      1.00      1.00      4576\n",
      "        9.0       0.99      1.00      1.00      4700\n",
      "\n",
      "avg / total       1.00      1.00      1.00     46900\n",
      "\n"
     ]
    }
   ],
   "source": [
    "# Evaluate TRAIN model class prediction accuracy\n",
    "print(\"[INFO] Evaluating network...\")\n",
    "in_sample_classes = model.predict(trainX_dct, batch_size=batch_size)\n",
    "print(classification_report(trainY.argmax(axis=1),\n",
    "                            in_sample_classes.argmax(axis=1),\n",
    "                            target_names=[str(x) for x in lb.classes_]))"
   ]
  },
  {
   "cell_type": "code",
   "execution_count": 25,
   "metadata": {},
   "outputs": [
    {
     "data": {
      "image/png": "[encoded data removed]",
      "text/plain": [
       "<Figure size 216x216 with 1 Axes>"
      ]
     },
     "metadata": {},
     "output_type": "display_data"
    },
    {
     "name": "stdout",
     "output_type": "stream",
     "text": [
      "9.0\n"
     ]
    }
   ],
   "source": [
    "idx = random.randint(0, data.shape[0])\n",
    "show_2d(data[idx,:,:].reshape((28,28)))\n",
    "print(dataset.target[idx])\n"
   ]
  },
  {
   "cell_type": "code",
   "execution_count": 39,
   "metadata": {},
   "outputs": [
    {
     "name": "stdout",
     "output_type": "stream",
     "text": [
      "(23100,)\n",
      "(23100,)\n",
      "317\n",
      "317\n",
      "[90, 133, 171, 179, 229, 293, 320, 344, 423, 483, 577, 591, 612, 651, 764, 830, 914, 983, 1054, 1140, 1148, 1229, 1463, 1489, 1497, 1540, 1642, 1681, 1801, 1940]\n"
     ]
    }
   ],
   "source": [
    "target_names=[str(x) for x in lb.classes_]\n",
    "target_digits = testY.argmax(axis=1)\n",
    "prediction_digits = predictions.argmax(axis=1)\n",
    "misses = target_digits != prediction_digits\n",
    "miss_indices = [index for index,val in enumerate(misses) if val == True]\n",
    "\n",
    "print(target_digits.shape)\n",
    "print(prediction_digits.shape)\n",
    "print(len([val for val in misses if val == True]))\n",
    "print(len(miss_indices))\n",
    "print(miss_indices[0:30])\n",
    "\n"
   ]
  },
  {
   "cell_type": "code",
   "execution_count": 43,
   "metadata": {},
   "outputs": [
    {
     "name": "stdout",
     "output_type": "stream",
     "text": [
      "(23100, 28, 28, 1)\n",
      "19481\n",
      "(28, 28, 1)\n",
      "[0.    0.001 0.068 0.325 0.    0.345 0.    0.    0.239 0.022]\n",
      "Target = 9.0, Prediction=5.0\n"
     ]
    },
    {
     "data": {
      "image/png": "[encoded data removed]",
      "text/plain": [
       "<Figure size 216x216 with 1 Axes>"
      ]
     },
     "metadata": {},
     "output_type": "display_data"
    }
   ],
   "source": [
    "# Show examples of mis-classified digits from the test set\n",
    "print(testX.shape)\n",
    "idx = miss_indices[random.randint(0,len(miss_indices))]\n",
    "im = testX[idx,:]\n",
    "print(idx)\n",
    "print(im.shape)\n",
    "print(np.round(predictions[idx,:],3))\n",
    "digit = testY[idx].argmax()\n",
    "print('Target = {}, Prediction={}'.format(target_names[digit], target_names[prediction_digits[idx]]))\n",
    "#diagnose(im)\n",
    "show_flattened(im)"
   ]
  },
  {
   "cell_type": "code",
   "execution_count": 46,
   "metadata": {},
   "outputs": [
    {
     "name": "stdout",
     "output_type": "stream",
     "text": [
      "(23100, 28, 28, 1)\n",
      "19881\n",
      "(28, 28, 1)\n",
      "Target = 6.0, Prediction=6.0\n"
     ]
    },
    {
     "data": {
      "image/png": "[encoded data removed]",
      "text/plain": [
       "<Figure size 216x216 with 1 Axes>"
      ]
     },
     "metadata": {},
     "output_type": "display_data"
    }
   ],
   "source": [
    "# Show random test digits with predict/target values.  \n",
    "print(testX.shape)\n",
    "idx = random.randint(0,testY.shape[0])\n",
    "im = testX[idx,:]\n",
    "print(idx)\n",
    "print(im.shape)\n",
    "digit = testY[idx].argmax()\n",
    "print('Target = {}, Prediction={}'.format(target_names[digit], target_names[prediction_digits[idx]]))\n",
    "#diagnose(im)\n",
    "show_flattened(im)"
   ]
  },
  {
   "cell_type": "code",
   "execution_count": 143,
   "metadata": {},
   "outputs": [
    {
     "data": {
      "text/plain": [
       "<Figure size 432x288 with 0 Axes>"
      ]
     },
     "execution_count": 143,
     "metadata": {},
     "output_type": "execute_result"
    },
    {
     "data": {
      "text/plain": [
       "<Figure size 432x288 with 0 Axes>"
      ]
     },
     "metadata": {},
     "output_type": "display_data"
    }
   ],
   "source": [
    "plt.style.use('ggplot')\n",
    "plt.figure()\n"
   ]
  },
  {
   "cell_type": "code",
   "execution_count": null,
   "metadata": {},
   "outputs": [],
   "source": []
  }
 ],
 "metadata": {
  "kernelspec": {
   "display_name": "Python 3",
   "language": "python",
   "name": "python3"
  },
  "language_info": {
   "codemirror_mode": {
    "name": "ipython",
    "version": 3
   },
   "file_extension": ".py",
   "mimetype": "text/x-python",
   "name": "python",
   "nbconvert_exporter": "python",
   "pygments_lexer": "ipython3",
   "version": "3.5.2"
  }
 },
 "nbformat": 4,
 "nbformat_minor": 2
}
