{
 "cells": [
  {
   "cell_type": "code",
   "execution_count": 1,
   "metadata": {},
   "outputs": [
    {
     "name": "stderr",
     "output_type": "stream",
     "text": [
      "Using TensorFlow backend.\n"
     ]
    }
   ],
   "source": [
    "%matplotlib inline\n",
    "from sklearn.preprocessing import LabelBinarizer\n",
    "from sklearn.model_selection import train_test_split\n",
    "from sklearn.metrics import classification_report\n",
    "from keras.models import Sequential\n",
    "from keras.layers.core import Dense, Dropout, Activation, Flatten\n",
    "from keras.layers.convolutional import Conv2D, MaxPooling2D\n",
    "from keras.optimizers import SGD\n",
    "from keras import regularizers\n",
    "from sklearn import datasets\n",
    "\n",
    "import matplotlib.pyplot as plt\n",
    "import numpy as np\n",
    "\n",
    "import cv2\n",
    "\n",
    "import time\n",
    "\n",
    "from imageutils import block_dct\n",
    "from imageutils import dataset_transform_block_dct\n",
    "\n",
    "import random"
   ]
  },
  {
   "cell_type": "code",
   "execution_count": 2,
   "metadata": {},
   "outputs": [],
   "source": [
    "def show_2d(im, figsize_x=3, cmap='Greys'):\n",
    "    plt.figure(figsize=(figsize_x, figsize_x))\n",
    "    plt.imshow(im, cmap=cmap)\n",
    "    plt.show()"
   ]
  },
  {
   "cell_type": "code",
   "execution_count": 3,
   "metadata": {},
   "outputs": [],
   "source": [
    "def show_flattened(im, figsize_x=3, cmap='Greys'):\n",
    "    im = im.reshape(28,28)\n",
    "    show_2d(im, figsize_x, cmap)"
   ]
  },
  {
   "cell_type": "code",
   "execution_count": 4,
   "metadata": {},
   "outputs": [],
   "source": [
    "def diagnose(im):\n",
    "    pred = model.predict(im, batch_size=1)\n",
    "    print('Predicted {0}'.format(pred.argmax(axis=1)))\n",
    "    show_flattened(im)"
   ]
  },
  {
   "cell_type": "code",
   "execution_count": 5,
   "metadata": {},
   "outputs": [],
   "source": [
    "def stopwatch(value, fmt_string='{days}d:{hours}h:{minutes}m:{seconds}s'):\n",
    "    '''From seconds to Days;Hours:Minutes;Seconds'''\n",
    "\n",
    "    valueD = (((value/365)/24)/60)\n",
    "    days = int (valueD)\n",
    "\n",
    "    valueH = (valueD-days)*365\n",
    "    hours = int(valueH)\n",
    "\n",
    "    valueM = (valueH - hours)*24\n",
    "    minutes = int(valueM)\n",
    "\n",
    "    valueS = (valueM - minutes)*60\n",
    "    seconds = int(valueS)\n",
    "    data = {'days': days, 'hours': hours, 'minutes': minutes, 'seconds':seconds}\n",
    "\n",
    "\n",
    "    print (fmt_string.format(**data))"
   ]
  },
  {
   "cell_type": "code",
   "execution_count": 6,
   "metadata": {},
   "outputs": [
    {
     "name": "stdout",
     "output_type": "stream",
     "text": [
      "[INFO] loading MNIST full dataset...\n"
     ]
    }
   ],
   "source": [
    "print('[INFO] loading MNIST full dataset...')\n",
    "dataset = datasets.fetch_mldata(\"MNIST Original\")"
   ]
  },
  {
   "cell_type": "code",
   "execution_count": 7,
   "metadata": {},
   "outputs": [
    {
     "name": "stdout",
     "output_type": "stream",
     "text": [
      "4\n",
      "(70000, 784)\n",
      "<class 'numpy.ndarray'>\n"
     ]
    }
   ],
   "source": [
    "print(len(dataset))\n",
    "print(dataset.data.shape)\n",
    "print(dataset.data.__class__)"
   ]
  },
  {
   "cell_type": "code",
   "execution_count": 8,
   "metadata": {},
   "outputs": [],
   "source": [
    "# Traditional NNet setup, linearize the image\n",
    "data = dataset.data.astype(\"float\") / 255.0\n",
    "(trainX, testX, trainY, testY) = train_test_split(data, dataset.target, test_size=0.25)"
   ]
  },
  {
   "cell_type": "code",
   "execution_count": 9,
   "metadata": {},
   "outputs": [
    {
     "name": "stdout",
     "output_type": "stream",
     "text": [
      "(70000, 784)\n",
      "(52500, 784)\n",
      "(17500, 784)\n"
     ]
    }
   ],
   "source": [
    "print(data.shape)\n",
    "print(trainX.shape)\n",
    "print(testX.shape)\n"
   ]
  },
  {
   "cell_type": "code",
   "execution_count": 10,
   "metadata": {},
   "outputs": [
    {
     "name": "stdout",
     "output_type": "stream",
     "text": [
      "(52500, 10)\n",
      "(17500, 10)\n",
      "[0. 1. 2. 3. 4. 5. 6. 7. 8. 9.]\n",
      "(10,)\n"
     ]
    }
   ],
   "source": [
    "# Transform labels from int to one-hot vectors\n",
    "lb = LabelBinarizer()\n",
    "trainY = lb.fit_transform(trainY)\n",
    "testY = lb.fit_transform(testY)\n",
    "\n",
    "print(trainY.shape)\n",
    "print(testY.shape)\n",
    "\n",
    "print(lb.classes_)\n",
    "print(lb.classes_.shape)"
   ]
  },
  {
   "cell_type": "code",
   "execution_count": 14,
   "metadata": {},
   "outputs": [],
   "source": [
    "# define 784-256-128-10 architecture with Keras\n",
    "model = Sequential()\n",
    "model.add(Dense(256, input_shape=(784,), activation=\"relu\"))\n",
    "model.add(Dropout(0.1))\n",
    "model.add(Dense(128, activation=\"relu\"))\n",
    "model.add(Dropout(0.2))\n",
    "model.add(Dense(10, activation=\"softmax\"))\n",
    "\n",
    "model.compile(loss='categorical_crossentropy', optimizer='adam', metrics=['accuracy'])"
   ]
  },
  {
   "cell_type": "code",
   "execution_count": 19,
   "metadata": {},
   "outputs": [],
   "source": [
    "# define 784-256-128-10 architecture with Keras\n",
    "model = Sequential()\n",
    "model.add(Dense(128, input_shape=(784,), activation=\"relu\",\n",
    "          activity_regularizer=regularizers.l2(1e-6)))\n",
    "model.add(Dropout(0.1))\n",
    "model.add(Dense(32, activation=\"relu\",\n",
    "          activity_regularizer=regularizers.l2(1e-6)))\n",
    "model.add(Dropout(0.1))\n",
    "model.add(Dense(10, activation=\"softmax\"))\n",
    "\n",
    "model.compile(loss='categorical_crossentropy', optimizer='adam', metrics=['accuracy'])"
   ]
  },
  {
   "cell_type": "code",
   "execution_count": 375,
   "metadata": {},
   "outputs": [],
   "source": [
    "# Simple CNN architecture with Keras\n",
    "model = Sequential()\n",
    "model.add(Conv2D(input_shape=(28,28,1), filters=16, padding='same', \n",
    "                 use_bias=True, kernel_size=(5,5), strides=2))\n",
    "model.add(Activation('relu'))\n",
    "model.add(MaxPooling2D(pool_size=(2,2)))\n",
    "model.add(Conv2D(filters=32, use_bias=True, kernel_size=(2,2)))\n",
    "model.add(Activation('relu'))\n",
    "model.add(MaxPooling2D(pool_size=(2,2)))\n",
    "#model.add(Conv2D(filters=32, use_bias=False, kernel_size=(2,2)))\n",
    "#model.add(Activation('relu'))\n",
    "#model.add(MaxPooling2D(pool_size=(3,3)))\n",
    "model.add(Flatten())\n",
    "model.add(Dense(32))\n",
    "model.add(Activation('relu'))\n",
    "model.add(Dropout(0.1))\n",
    "model.add(Dense(10, activation=\"softmax\"))\n",
    "model.compile(loss='categorical_crossentropy', optimizer='adam', metrics=['accuracy'])"
   ]
  },
  {
   "cell_type": "code",
   "execution_count": 12,
   "metadata": {},
   "outputs": [
    {
     "name": "stdout",
     "output_type": "stream",
     "text": [
      "Layer 0: <class 'keras.layers.core.Dense'>\n",
      "    input=(None, 784)\n",
      "    output=(None, 256)\n",
      "    act=<function relu at 0x7f07f66c4a60>\n",
      "Layer 1: <class 'keras.layers.core.Dense'>\n",
      "    input=(None, 256)\n",
      "    output=(None, 128)\n",
      "    act=<function relu at 0x7f07f66c4a60>\n",
      "Layer 2: <class 'keras.layers.core.Dense'>\n",
      "    input=(None, 128)\n",
      "    output=(None, 10)\n",
      "    act=<function softmax at 0x7f07f66c47b8>\n"
     ]
    }
   ],
   "source": [
    "from kerasutils import describe_model\n",
    "\n",
    "describe_model(model)"
   ]
  },
  {
   "cell_type": "code",
   "execution_count": 15,
   "metadata": {},
   "outputs": [
    {
     "name": "stdout",
     "output_type": "stream",
     "text": [
      "Train on 52500 samples, validate on 17500 samples\n",
      "Epoch 1/20\n",
      "52500/52500 [==============================] - 2s 47us/step - loss: 0.3368 - acc: 0.9016 - val_loss: 0.1421 - val_acc: 0.9579\n",
      "Epoch 2/20\n",
      "52500/52500 [==============================] - 2s 41us/step - loss: 0.1333 - acc: 0.9600 - val_loss: 0.1077 - val_acc: 0.9661\n",
      "Epoch 3/20\n",
      "52500/52500 [==============================] - 2s 41us/step - loss: 0.0928 - acc: 0.9721 - val_loss: 0.0869 - val_acc: 0.9723\n",
      "Epoch 4/20\n",
      "52500/52500 [==============================] - 2s 41us/step - loss: 0.0702 - acc: 0.9787 - val_loss: 0.0739 - val_acc: 0.9774\n",
      "Epoch 5/20\n",
      "52500/52500 [==============================] - 2s 41us/step - loss: 0.0561 - acc: 0.9821 - val_loss: 0.0724 - val_acc: 0.9789\n",
      "Epoch 6/20\n",
      "52500/52500 [==============================] - 2s 41us/step - loss: 0.0471 - acc: 0.9849 - val_loss: 0.0765 - val_acc: 0.9783\n",
      "Epoch 7/20\n",
      "52500/52500 [==============================] - 2s 41us/step - loss: 0.0381 - acc: 0.9878 - val_loss: 0.0669 - val_acc: 0.9802\n",
      "Epoch 8/20\n",
      "52500/52500 [==============================] - 2s 41us/step - loss: 0.0343 - acc: 0.9888 - val_loss: 0.0720 - val_acc: 0.9803\n",
      "Epoch 9/20\n",
      "52500/52500 [==============================] - 2s 41us/step - loss: 0.0295 - acc: 0.9897 - val_loss: 0.0755 - val_acc: 0.9790\n",
      "Epoch 10/20\n",
      "52500/52500 [==============================] - 2s 41us/step - loss: 0.0271 - acc: 0.9908 - val_loss: 0.0766 - val_acc: 0.9799\n",
      "Epoch 11/20\n",
      "52500/52500 [==============================] - 2s 41us/step - loss: 0.0257 - acc: 0.9907 - val_loss: 0.0775 - val_acc: 0.9809\n",
      "Epoch 12/20\n",
      "52500/52500 [==============================] - 2s 41us/step - loss: 0.0236 - acc: 0.9920 - val_loss: 0.0794 - val_acc: 0.9808\n",
      "Epoch 13/20\n",
      "52500/52500 [==============================] - 2s 41us/step - loss: 0.0198 - acc: 0.9934 - val_loss: 0.0698 - val_acc: 0.9821\n",
      "Epoch 14/20\n",
      "52500/52500 [==============================] - 2s 41us/step - loss: 0.0196 - acc: 0.9934 - val_loss: 0.0726 - val_acc: 0.9822\n",
      "Epoch 15/20\n",
      "52500/52500 [==============================] - 2s 41us/step - loss: 0.0182 - acc: 0.9938 - val_loss: 0.0769 - val_acc: 0.9813\n",
      "Epoch 16/20\n",
      "52500/52500 [==============================] - 2s 41us/step - loss: 0.0171 - acc: 0.9942 - val_loss: 0.0829 - val_acc: 0.9810\n",
      "Epoch 17/20\n",
      "52500/52500 [==============================] - 2s 41us/step - loss: 0.0153 - acc: 0.9946 - val_loss: 0.0765 - val_acc: 0.9832\n",
      "Epoch 18/20\n",
      "52500/52500 [==============================] - 2s 41us/step - loss: 0.0132 - acc: 0.9955 - val_loss: 0.0796 - val_acc: 0.9814\n",
      "Epoch 19/20\n",
      "52500/52500 [==============================] - 2s 41us/step - loss: 0.0144 - acc: 0.9950 - val_loss: 0.0819 - val_acc: 0.9827\n",
      "Epoch 20/20\n",
      "52500/52500 [==============================] - 2s 41us/step - loss: 0.0149 - acc: 0.9949 - val_loss: 0.0939 - val_acc: 0.9799\n",
      "Done!!!\n",
      "0d:0h:0m:43s\n"
     ]
    }
   ],
   "source": [
    "start = time.time()\n",
    "n_epochs = 20\n",
    "batch_size = 128\n",
    "H = model.fit(trainX, trainY, validation_data=(testX, testY), \n",
    "              epochs=n_epochs, batch_size=batch_size)\n",
    "print('Done!!!')\n",
    "end = time.time()\n",
    "stopwatch(end-start)"
   ]
  },
  {
   "cell_type": "code",
   "execution_count": 16,
   "metadata": {},
   "outputs": [
    {
     "name": "stdout",
     "output_type": "stream",
     "text": [
      "[INFO] Evaluating network...\n",
      "             precision    recall  f1-score   support\n",
      "\n",
      "        0.0       0.99      0.99      0.99      1680\n",
      "        1.0       0.99      0.99      0.99      1962\n",
      "        2.0       0.95      0.99      0.97      1710\n",
      "        3.0       0.99      0.96      0.98      1799\n",
      "        4.0       0.98      0.98      0.98      1726\n",
      "        5.0       0.99      0.97      0.98      1582\n",
      "        6.0       0.98      0.99      0.99      1735\n",
      "        7.0       0.97      0.99      0.98      1838\n",
      "        8.0       0.98      0.97      0.97      1689\n",
      "        9.0       0.98      0.97      0.97      1779\n",
      "\n",
      "avg / total       0.98      0.98      0.98     17500\n",
      "\n"
     ]
    }
   ],
   "source": [
    "# Evaluate TEST model class prediction accuracy\n",
    "print(\"[INFO] Evaluating network...\")\n",
    "predictions = model.predict(testX, batch_size=batch_size)\n",
    "print(classification_report(testY.argmax(axis=1),\n",
    "                            predictions.argmax(axis=1),\n",
    "                            target_names=[str(x) for x in lb.classes_]))"
   ]
  },
  {
   "cell_type": "code",
   "execution_count": 17,
   "metadata": {},
   "outputs": [
    {
     "name": "stdout",
     "output_type": "stream",
     "text": [
      "[INFO] Evaluating network...\n",
      "             precision    recall  f1-score   support\n",
      "\n",
      "        0.0       1.00      1.00      1.00      5223\n",
      "        1.0       1.00      1.00      1.00      5915\n",
      "        2.0       1.00      1.00      1.00      5280\n",
      "        3.0       1.00      0.99      1.00      5342\n",
      "        4.0       1.00      1.00      1.00      5098\n",
      "        5.0       1.00      1.00      1.00      4731\n",
      "        6.0       1.00      1.00      1.00      5141\n",
      "        7.0       0.99      1.00      1.00      5455\n",
      "        8.0       1.00      1.00      1.00      5136\n",
      "        9.0       1.00      1.00      1.00      5179\n",
      "\n",
      "avg / total       1.00      1.00      1.00     52500\n",
      "\n"
     ]
    }
   ],
   "source": [
    "# Evaluate TRAIN model class prediction accuracy\n",
    "print(\"[INFO] Evaluating network...\")\n",
    "in_sample_classes = model.predict(trainX, batch_size=batch_size)\n",
    "print(classification_report(trainY.argmax(axis=1),\n",
    "                            in_sample_classes.argmax(axis=1),\n",
    "                            target_names=[str(x) for x in lb.classes_]))"
   ]
  },
  {
   "cell_type": "code",
   "execution_count": 19,
   "metadata": {},
   "outputs": [
    {
     "data": {
      "image/png": "[encoded data removed]",
      "text/plain": [
       "<Figure size 216x216 with 1 Axes>"
      ]
     },
     "metadata": {},
     "output_type": "display_data"
    },
    {
     "name": "stdout",
     "output_type": "stream",
     "text": [
      "8.0\n"
     ]
    }
   ],
   "source": [
    "idx = random.randint(0, data.shape[0])\n",
    "show_2d(data[idx,:].reshape((28,28)))\n",
    "print(dataset.target[idx])\n"
   ]
  },
  {
   "cell_type": "code",
   "execution_count": 20,
   "metadata": {},
   "outputs": [
    {
     "name": "stdout",
     "output_type": "stream",
     "text": [
      "(17500,)\n",
      "(17500,)\n",
      "351\n",
      "351\n",
      "[24, 59, 63, 137, 251, 296, 449, 492, 514, 549, 570, 574, 576, 588, 642, 811, 815, 829, 848, 1024, 1078, 1103, 1227, 1301, 1359, 1465, 1499, 1503, 1509, 1532]\n"
     ]
    }
   ],
   "source": [
    "target_names=[str(x) for x in lb.classes_]\n",
    "target_digits = testY.argmax(axis=1)\n",
    "prediction_digits = predictions.argmax(axis=1)\n",
    "misses = target_digits != prediction_digits\n",
    "miss_indices = [index for index,val in enumerate(misses) if val == True]\n",
    "\n",
    "print(target_digits.shape)\n",
    "print(prediction_digits.shape)\n",
    "print(len([val for val in misses if val == True]))\n",
    "print(len(miss_indices))\n",
    "print(miss_indices[0:30])\n",
    "\n"
   ]
  },
  {
   "cell_type": "code",
   "execution_count": 394,
   "metadata": {},
   "outputs": [
    {
     "name": "stdout",
     "output_type": "stream",
     "text": [
      "(23100, 28, 28, 1)\n",
      "6621\n",
      "(28, 28, 1)\n",
      "[0.002 0.    0.009 0.    0.    0.    0.    0.989 0.    0.   ]\n",
      "Target = 2.0, Prediction=7.0\n"
     ]
    },
    {
     "data": {
      "image/png": "[encoded data removed]",
      "text/plain": [
       "<Figure size 216x216 with 1 Axes>"
      ]
     },
     "metadata": {},
     "output_type": "display_data"
    }
   ],
   "source": [
    "# Show examples of mis-classified digits from the test set\n",
    "print(testX.shape)\n",
    "idx = miss_indices[random.randint(0,len(miss_indices))]\n",
    "im = testX[idx,:]\n",
    "print(idx)\n",
    "print(im.shape)\n",
    "print(np.round(predictions[idx,:],3))\n",
    "digit = testY[idx].argmax()\n",
    "print('Target = {}, Prediction={}'.format(target_names[digit], target_names[prediction_digits[idx]]))\n",
    "#diagnose(im)\n",
    "show_flattened(im)"
   ]
  },
  {
   "cell_type": "code",
   "execution_count": 387,
   "metadata": {},
   "outputs": [
    {
     "name": "stdout",
     "output_type": "stream",
     "text": [
      "(23100, 28, 28, 1)\n",
      "15584\n",
      "(28, 28, 1)\n",
      "Target = 4.0, Prediction=4.0\n"
     ]
    },
    {
     "data": {
      "image/png": "[encoded data removed]",
      "text/plain": [
       "<Figure size 216x216 with 1 Axes>"
      ]
     },
     "metadata": {},
     "output_type": "display_data"
    }
   ],
   "source": [
    "# Show random test digits with predict/target values.  \n",
    "print(testX.shape)\n",
    "idx = random.randint(0,testY.shape[0])\n",
    "im = testX[idx,:]\n",
    "print(idx)\n",
    "print(im.shape)\n",
    "digit = testY[idx].argmax()\n",
    "print('Target = {}, Prediction={}'.format(target_names[digit], target_names[prediction_digits[idx]]))\n",
    "#diagnose(im)\n",
    "show_flattened(im)"
   ]
  },
  {
   "cell_type": "code",
   "execution_count": 143,
   "metadata": {},
   "outputs": [
    {
     "data": {
      "text/plain": [
       "<Figure size 432x288 with 0 Axes>"
      ]
     },
     "execution_count": 143,
     "metadata": {},
     "output_type": "execute_result"
    },
    {
     "data": {
      "text/plain": [
       "<Figure size 432x288 with 0 Axes>"
      ]
     },
     "metadata": {},
     "output_type": "display_data"
    }
   ],
   "source": [
    "plt.style.use('ggplot')\n",
    "plt.figure()\n"
   ]
  },
  {
   "cell_type": "code",
   "execution_count": null,
   "metadata": {},
   "outputs": [],
   "source": []
  }
 ],
 "metadata": {
  "kernelspec": {
   "display_name": "Python 3",
   "language": "python",
   "name": "python3"
  },
  "language_info": {
   "codemirror_mode": {
    "name": "ipython",
    "version": 3
   },
   "file_extension": ".py",
   "mimetype": "text/x-python",
   "name": "python",
   "nbconvert_exporter": "python",
   "pygments_lexer": "ipython3",
   "version": "3.5.2"
  }
 },
 "nbformat": 4,
 "nbformat_minor": 2
}
