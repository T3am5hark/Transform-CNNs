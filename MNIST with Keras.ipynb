{
 "cells": [
  {
   "cell_type": "code",
   "execution_count": 1,
   "metadata": {},
   "outputs": [
    {
     "name": "stderr",
     "output_type": "stream",
     "text": [
      "/home/jmoore/.virtualenvs/dl4cv/lib/python3.5/site-packages/h5py/__init__.py:36: FutureWarning: Conversion of the second argument of issubdtype from `float` to `np.floating` is deprecated. In future, it will be treated as `np.float64 == np.dtype(float).type`.\n",
      "  from ._conv import register_converters as _register_converters\n",
      "Using TensorFlow backend.\n"
     ]
    }
   ],
   "source": [
    "%matplotlib inline\n",
    "from sklearn.preprocessing import LabelBinarizer\n",
    "from sklearn.model_selection import train_test_split\n",
    "from sklearn.metrics import classification_report\n",
    "from keras.models import Sequential\n",
    "from keras.layers.core import Dense, Dropout, Activation, Flatten\n",
    "from keras.layers.convolutional import Conv2D, MaxPooling2D\n",
    "from keras.optimizers import SGD\n",
    "from keras import regularizers\n",
    "from sklearn import datasets\n",
    "\n",
    "import matplotlib.pyplot as plt\n",
    "import numpy as np\n",
    "\n",
    "import cv2\n",
    "\n",
    "from imageutils import block_dct\n",
    "from imageutils import dataset_transform_block_dct\n",
    "\n",
    "import random"
   ]
  },
  {
   "cell_type": "code",
   "execution_count": 2,
   "metadata": {},
   "outputs": [
    {
     "name": "stdout",
     "output_type": "stream",
     "text": [
      "[INFO] loading MNIST full dataset...\n"
     ]
    }
   ],
   "source": [
    "print('[INFO] loading MNIST full dataset...')\n",
    "dataset = datasets.fetch_mldata(\"MNIST Original\")"
   ]
  },
  {
   "cell_type": "code",
   "execution_count": 3,
   "metadata": {},
   "outputs": [
    {
     "name": "stdout",
     "output_type": "stream",
     "text": [
      "4\n",
      "(70000, 784)\n",
      "<class 'numpy.ndarray'>\n"
     ]
    }
   ],
   "source": [
    "print(len(dataset))\n",
    "print(dataset.data.shape)\n",
    "print(dataset.data.__class__)"
   ]
  },
  {
   "cell_type": "code",
   "execution_count": 4,
   "metadata": {},
   "outputs": [],
   "source": [
    "# Traditional NNet setup, linearize the image\n",
    "data = dataset.data.astype(\"float\") / 255.0\n",
    "(trainX, testX, trainY, testY) = train_test_split(data, dataset.target, test_size=0.25)"
   ]
  },
  {
   "cell_type": "code",
   "execution_count": 5,
   "metadata": {},
   "outputs": [],
   "source": [
    "# Reshape for CNN\n",
    "data = dataset.data.astype(\"float\").reshape(70000, 28, 28, 1) / 255.0\n",
    "#data = 1.0-data\n",
    "(trainX, testX, trainY, testY) = train_test_split(data, dataset.target, test_size=0.33)"
   ]
  },
  {
   "cell_type": "code",
   "execution_count": 15,
   "metadata": {},
   "outputs": [
    {
     "name": "stdout",
     "output_type": "stream",
     "text": [
      "(28, 28, 1)\n",
      "(48, 48, 1)\n"
     ]
    },
    {
     "data": {
      "image/png": "[encoded data removed]",
      "text/plain": [
       "<Figure size 216x216 with 1 Axes>"
      ]
     },
     "metadata": {},
     "output_type": "display_data"
    },
    {
     "data": {
      "image/png": "[encoded data removed]",
      "text/plain": [
       "<Figure size 216x216 with 1 Axes>"
      ]
     },
     "metadata": {},
     "output_type": "display_data"
    }
   ],
   "source": [
    "im = trainX[0,:,:,:]\n",
    "print(im.shape)\n",
    "\n",
    "im_dct = block_dct(im)\n",
    "print(im_dct.shape)\n",
    "\n",
    "show_2d(im.reshape(28,28))\n",
    "show_2d(im_dct.reshape((48,48)))\n"
   ]
  },
  {
   "cell_type": "code",
   "execution_count": 7,
   "metadata": {},
   "outputs": [
    {
     "name": "stdout",
     "output_type": "stream",
     "text": [
      "(70000, 28, 28, 1)\n",
      "(46900, 28, 28, 1)\n",
      "(23100, 28, 28, 1)\n"
     ]
    }
   ],
   "source": [
    "print(data.shape)\n",
    "print(trainX.shape)\n",
    "print(testX.shape)\n"
   ]
  },
  {
   "cell_type": "code",
   "execution_count": 8,
   "metadata": {},
   "outputs": [],
   "source": [
    "trainX_dct = dataset_transform_block_dct(trainX, dct_size=8, stride=4)\n",
    "testX_dct = dataset_transform_block_dct(testX, dct_size=8, stride=4)"
   ]
  },
  {
   "cell_type": "code",
   "execution_count": 9,
   "metadata": {},
   "outputs": [
    {
     "name": "stdout",
     "output_type": "stream",
     "text": [
      "(46900, 48, 48, 1)\n",
      "(23100, 48, 48, 1)\n"
     ]
    }
   ],
   "source": [
    "print(trainX_dct.shape)\n",
    "print(testX_dct.shape)"
   ]
  },
  {
   "cell_type": "code",
   "execution_count": 22,
   "metadata": {},
   "outputs": [
    {
     "name": "stdout",
     "output_type": "stream",
     "text": [
      "(46900, 10)\n",
      "(23100, 10)\n",
      "[0 1 2 3 4 5 6 7 8 9]\n",
      "(10,)\n"
     ]
    }
   ],
   "source": [
    "# Transform labels from int to one-hot vectors\n",
    "lb = LabelBinarizer()\n",
    "trainY = lb.fit_transform(trainY)\n",
    "testY = lb.fit_transform(testY)\n",
    "\n",
    "print(trainY.shape)\n",
    "print(testY.shape)\n",
    "\n",
    "print(lb.classes_)\n",
    "print(lb.classes_.shape)"
   ]
  },
  {
   "cell_type": "code",
   "execution_count": 6,
   "metadata": {},
   "outputs": [],
   "source": [
    "# define 784-256-128-10 architecture with Keras\n",
    "model = Sequential()\n",
    "model.add(Dense(256, input_shape=(784,), activation=\"relu\"))\n",
    "model.add(Dense(128, activation=\"relu\"))\n",
    "model.add(Dense(10, activation=\"softmax\"))\n",
    "\n",
    "model.compile(loss='categorical_crossentropy', optimizer='adam', metrics=['accuracy'])"
   ]
  },
  {
   "cell_type": "code",
   "execution_count": 24,
   "metadata": {},
   "outputs": [],
   "source": [
    "# define 784-256-128-10 architecture with Keras\n",
    "model = Sequential()\n",
    "model.add(Dense(128, input_shape=(784,), activation=\"relu\",\n",
    "          activity_regularizer=regularizers.l2(1e-6)))\n",
    "model.add(Dropout(0.1))\n",
    "model.add(Dense(32, activation=\"relu\",\n",
    "          activity_regularizer=regularizers.l2(1e-6)))\n",
    "model.add(Dropout(0.1))\n",
    "model.add(Dense(10, activation=\"softmax\"))\n",
    "\n",
    "model.compile(loss='categorical_crossentropy', optimizer='adam', metrics=['accuracy'])"
   ]
  },
  {
   "cell_type": "code",
   "execution_count": 375,
   "metadata": {},
   "outputs": [],
   "source": [
    "# Simple CNN architecture with Keras\n",
    "model = Sequential()\n",
    "model.add(Conv2D(input_shape=(28,28,1), filters=16, padding='same', \n",
    "                 use_bias=True, kernel_size=(5,5), strides=2))\n",
    "model.add(Activation('relu'))\n",
    "model.add(MaxPooling2D(pool_size=(2,2)))\n",
    "model.add(Conv2D(filters=32, use_bias=True, kernel_size=(2,2)))\n",
    "model.add(Activation('relu'))\n",
    "model.add(MaxPooling2D(pool_size=(2,2)))\n",
    "#model.add(Conv2D(filters=32, use_bias=False, kernel_size=(2,2)))\n",
    "#model.add(Activation('relu'))\n",
    "#model.add(MaxPooling2D(pool_size=(3,3)))\n",
    "model.add(Flatten())\n",
    "model.add(Dense(32))\n",
    "model.add(Activation('relu'))\n",
    "model.add(Dropout(0.1))\n",
    "model.add(Dense(10, activation=\"softmax\"))\n",
    "model.compile(loss='categorical_crossentropy', optimizer='adam', metrics=['accuracy'])"
   ]
  },
  {
   "cell_type": "code",
   "execution_count": 30,
   "metadata": {},
   "outputs": [],
   "source": [
    "# \"Transform\" CNN architecture with Keras\n",
    "model = Sequential()\n",
    "model.add(Conv2D(input_shape=(48,48,1), filters=16,  \n",
    "                 use_bias=True, kernel_size=(8,8), strides=8))\n",
    "model.add(Activation('relu'))\n",
    "model.add(Dropout(0.01))\n",
    "model.add(Flatten())\n",
    "model.add(Dense(64))\n",
    "model.add(Activation('relu'))\n",
    "model.add(Dropout(0.02))\n",
    "model.add(Dense(lb.classes_.shape[0], activation=\"softmax\"))\n",
    "model.compile(loss='categorical_crossentropy', optimizer='adam', metrics=['accuracy'])"
   ]
  },
  {
   "cell_type": "code",
   "execution_count": 34,
   "metadata": {},
   "outputs": [
    {
     "name": "stdout",
     "output_type": "stream",
     "text": [
      "Layer 0: <class 'keras.layers.convolutional.Conv2D'>\n",
      "    input=(None, 48, 48, 1)\n",
      "    output=(None, 6, 6, 16)\n",
      "    act=<function linear at 0x7faae7bd7158>\n",
      "    strides=(8, 8)\n",
      "Layer 1: <class 'keras.layers.core.Activation'>\n",
      "    input=(None, 6, 6, 16)\n",
      "    output=(None, 6, 6, 16)\n",
      "    act=<function relu at 0x7faae7bc8ea0>\n",
      "Layer 2: <class 'keras.layers.core.Dropout'>\n",
      "    input=(None, 6, 6, 16)\n",
      "    output=(None, 6, 6, 16)\n",
      "    rate=0.01\n",
      "Layer 3: <class 'keras.layers.core.Flatten'>\n",
      "    input=(None, 6, 6, 16)\n",
      "    output=(None, 576)\n",
      "Layer 4: <class 'keras.layers.core.Dense'>\n",
      "    input=(None, 576)\n",
      "    output=(None, 64)\n",
      "    act=<function linear at 0x7faae7bd7158>\n",
      "Layer 5: <class 'keras.layers.core.Activation'>\n",
      "    input=(None, 64)\n",
      "    output=(None, 64)\n",
      "    act=<function relu at 0x7faae7bc8ea0>\n",
      "Layer 6: <class 'keras.layers.core.Dropout'>\n",
      "    input=(None, 64)\n",
      "    output=(None, 64)\n",
      "    rate=0.02\n",
      "Layer 7: <class 'keras.layers.core.Dense'>\n",
      "    input=(None, 64)\n",
      "    output=(None, 10)\n",
      "    act=<function softmax at 0x7faae7bc8bf8>\n"
     ]
    }
   ],
   "source": [
    "from kerasutils import describe_model\n",
    "\n",
    "describe_model(model)"
   ]
  },
  {
   "cell_type": "code",
   "execution_count": null,
   "metadata": {},
   "outputs": [],
   "source": [
    "n_epochs = 25\n",
    "batch_size = 128\n",
    "H = model.fit(trainX, trainY, validation_data=(testX, testY), \n",
    "              epochs=n_epochs, batch_size=batch_size)\n",
    "print('Done!!!')"
   ]
  },
  {
   "cell_type": "code",
   "execution_count": 33,
   "metadata": {},
   "outputs": [
    {
     "name": "stdout",
     "output_type": "stream",
     "text": [
      "Train on 46900 samples, validate on 23100 samples\n",
      "Epoch 1/10\n",
      "46900/46900 [==============================] - 10s 222us/step - loss: 0.0509 - acc: 0.9828 - val_loss: 0.0596 - val_acc: 0.9817\n",
      "Epoch 2/10\n",
      "46900/46900 [==============================] - 11s 225us/step - loss: 0.0339 - acc: 0.9889 - val_loss: 0.0566 - val_acc: 0.9829\n",
      "Epoch 3/10\n",
      "46900/46900 [==============================] - 10s 222us/step - loss: 0.0289 - acc: 0.9909 - val_loss: 0.0546 - val_acc: 0.9840\n",
      "Epoch 4/10\n",
      "46900/46900 [==============================] - 10s 218us/step - loss: 0.0242 - acc: 0.9916 - val_loss: 0.0642 - val_acc: 0.9813\n",
      "Epoch 5/10\n",
      "46900/46900 [==============================] - 10s 224us/step - loss: 0.0207 - acc: 0.9929 - val_loss: 0.0582 - val_acc: 0.9829\n",
      "Epoch 6/10\n",
      "46900/46900 [==============================] - 11s 227us/step - loss: 0.0188 - acc: 0.9934 - val_loss: 0.0638 - val_acc: 0.9821\n",
      "Epoch 7/10\n",
      "46900/46900 [==============================] - 10s 217us/step - loss: 0.0145 - acc: 0.9951 - val_loss: 0.0629 - val_acc: 0.9829\n",
      "Epoch 8/10\n",
      "46900/46900 [==============================] - 10s 223us/step - loss: 0.0147 - acc: 0.9948 - val_loss: 0.0729 - val_acc: 0.9817\n",
      "Epoch 9/10\n",
      "46900/46900 [==============================] - 11s 226us/step - loss: 0.0120 - acc: 0.9962 - val_loss: 0.0739 - val_acc: 0.9816\n",
      "Epoch 10/10\n",
      "46900/46900 [==============================] - 11s 226us/step - loss: 0.0110 - acc: 0.9962 - val_loss: 0.0714 - val_acc: 0.9817\n",
      "Done!!!\n"
     ]
    }
   ],
   "source": [
    "# Transform-based \n",
    "n_epochs = 10\n",
    "batch_size = 32\n",
    "H = model.fit(trainX_dct, trainY, validation_data=(testX_dct, testY), \n",
    "              epochs=n_epochs, batch_size=batch_size)\n",
    "print('Done!!!')"
   ]
  },
  {
   "cell_type": "code",
   "execution_count": 36,
   "metadata": {},
   "outputs": [
    {
     "name": "stdout",
     "output_type": "stream",
     "text": [
      "[INFO] Evaluating network...\n",
      "             precision    recall  f1-score   support\n",
      "\n",
      "          0       0.98      0.99      0.99      2252\n",
      "          1       0.98      0.99      0.99      2648\n",
      "          2       0.98      0.98      0.98      2242\n",
      "          3       0.99      0.98      0.98      2342\n",
      "          4       0.98      0.98      0.98      2256\n",
      "          5       0.98      0.98      0.98      2072\n",
      "          6       0.99      0.98      0.99      2289\n",
      "          7       0.98      0.98      0.98      2485\n",
      "          8       0.99      0.95      0.97      2208\n",
      "          9       0.96      0.98      0.97      2306\n",
      "\n",
      "avg / total       0.98      0.98      0.98     23100\n",
      "\n"
     ]
    }
   ],
   "source": [
    "# Evaluate TEST model class prediction accuracy\n",
    "print(\"[INFO] Evaluating network...\")\n",
    "predictions = model.predict(testX_dct, batch_size=batch_size)\n",
    "print(classification_report(testY.argmax(axis=1),\n",
    "                            predictions.argmax(axis=1),\n",
    "                            target_names=[str(x) for x in lb.classes_]))"
   ]
  },
  {
   "cell_type": "code",
   "execution_count": 230,
   "metadata": {},
   "outputs": [
    {
     "data": {
      "image/png": "[encoded data removed]",
      "text/plain": [
       "<Figure size 216x216 with 1 Axes>"
      ]
     },
     "metadata": {},
     "output_type": "display_data"
    },
    {
     "name": "stdout",
     "output_type": "stream",
     "text": [
      "8.0\n"
     ]
    }
   ],
   "source": [
    "idx = random.randint(0, data.shape[0])\n",
    "show_2d(data[idx,:,:].reshape((28,28)))\n",
    "print(dataset.target[idx])\n"
   ]
  },
  {
   "cell_type": "code",
   "execution_count": 383,
   "metadata": {},
   "outputs": [
    {
     "name": "stdout",
     "output_type": "stream",
     "text": [
      "[INFO] Evaluating network...\n",
      "             precision    recall  f1-score   support\n",
      "\n",
      "        0.0       1.00      1.00      1.00      4665\n",
      "        1.0       1.00      1.00      1.00      5250\n",
      "        2.0       1.00      1.00      1.00      4700\n",
      "        3.0       1.00      1.00      1.00      4756\n",
      "        4.0       1.00      1.00      1.00      4568\n",
      "        5.0       1.00      1.00      1.00      4225\n",
      "        6.0       1.00      1.00      1.00      4584\n",
      "        7.0       1.00      1.00      1.00      4874\n",
      "        8.0       1.00      1.00      1.00      4585\n",
      "        9.0       1.00      1.00      1.00      4693\n",
      "\n",
      "avg / total       1.00      1.00      1.00     46900\n",
      "\n"
     ]
    }
   ],
   "source": [
    "# Evaluate TRAIN model class prediction accuracy\n",
    "print(\"[INFO] Evaluating network...\")\n",
    "in_sample_classes = model.predict(trainX, batch_size=batch_size)\n",
    "print(classification_report(trainY.argmax(axis=1),\n",
    "                            in_sample_classes.argmax(axis=1),\n",
    "                            target_names=[str(x) for x in lb.classes_]))"
   ]
  },
  {
   "cell_type": "code",
   "execution_count": 384,
   "metadata": {},
   "outputs": [
    {
     "name": "stdout",
     "output_type": "stream",
     "text": [
      "(23100,)\n",
      "(23100,)\n",
      "258\n",
      "258\n",
      "[114, 183, 262, 517, 527, 614, 675, 724, 1036, 1040, 1080, 1236, 1271, 1337, 1376, 1465, 1694, 1706, 1812, 1905, 2180, 2239, 2243, 2411, 2482, 2559, 2649, 2735, 2779, 2805]\n"
     ]
    }
   ],
   "source": [
    "target_names=[str(x) for x in lb.classes_]\n",
    "target_digits = testY.argmax(axis=1)\n",
    "prediction_digits = predictions.argmax(axis=1)\n",
    "misses = target_digits != prediction_digits\n",
    "miss_indices = [index for index,val in enumerate(misses) if val == True]\n",
    "\n",
    "print(target_digits.shape)\n",
    "print(prediction_digits.shape)\n",
    "print(len([val for val in misses if val == True]))\n",
    "print(len(miss_indices))\n",
    "print(miss_indices[0:30])\n",
    "\n"
   ]
  },
  {
   "cell_type": "code",
   "execution_count": 11,
   "metadata": {},
   "outputs": [],
   "source": [
    "def show_2d(im, figsize_x=3, cmap='Greys'):\n",
    "    plt.figure(figsize=(figsize_x, figsize_x))\n",
    "    plt.imshow(im, cmap=cmap)\n",
    "    plt.show()"
   ]
  },
  {
   "cell_type": "code",
   "execution_count": 12,
   "metadata": {},
   "outputs": [],
   "source": [
    "def show_flattened(im, figsize_x=3, cmap='Greys'):\n",
    "    im = im.reshape(28,28)\n",
    "    show_2d(im, figsize_x, cmap)"
   ]
  },
  {
   "cell_type": "code",
   "execution_count": 13,
   "metadata": {},
   "outputs": [],
   "source": [
    "def diagnose(im):\n",
    "    pred = model.predict(im, batch_size=1)\n",
    "    print('Predicted {0}'.format(pred.argmax(axis=1)))\n",
    "    show_flattened(im)"
   ]
  },
  {
   "cell_type": "code",
   "execution_count": 394,
   "metadata": {},
   "outputs": [
    {
     "name": "stdout",
     "output_type": "stream",
     "text": [
      "(23100, 28, 28, 1)\n",
      "6621\n",
      "(28, 28, 1)\n",
      "[0.002 0.    0.009 0.    0.    0.    0.    0.989 0.    0.   ]\n",
      "Target = 2.0, Prediction=7.0\n"
     ]
    },
    {
     "data": {
      "image/png": "[encoded data removed]",
      "text/plain": [
       "<Figure size 216x216 with 1 Axes>"
      ]
     },
     "metadata": {},
     "output_type": "display_data"
    }
   ],
   "source": [
    "# Show examples of mis-classified digits from the test set\n",
    "print(testX.shape)\n",
    "idx = miss_indices[random.randint(0,len(miss_indices))]\n",
    "im = testX[idx,:]\n",
    "print(idx)\n",
    "print(im.shape)\n",
    "print(np.round(predictions[idx,:],3))\n",
    "digit = testY[idx].argmax()\n",
    "print('Target = {}, Prediction={}'.format(target_names[digit], target_names[prediction_digits[idx]]))\n",
    "#diagnose(im)\n",
    "show_flattened(im)"
   ]
  },
  {
   "cell_type": "code",
   "execution_count": 387,
   "metadata": {},
   "outputs": [
    {
     "name": "stdout",
     "output_type": "stream",
     "text": [
      "(23100, 28, 28, 1)\n",
      "15584\n",
      "(28, 28, 1)\n",
      "Target = 4.0, Prediction=4.0\n"
     ]
    },
    {
     "data": {
      "image/png": "[encoded data removed]",
      "text/plain": [
       "<Figure size 216x216 with 1 Axes>"
      ]
     },
     "metadata": {},
     "output_type": "display_data"
    }
   ],
   "source": [
    "# Show random test digits with predict/target values.  \n",
    "print(testX.shape)\n",
    "idx = random.randint(0,testY.shape[0])\n",
    "im = testX[idx,:]\n",
    "print(idx)\n",
    "print(im.shape)\n",
    "digit = testY[idx].argmax()\n",
    "print('Target = {}, Prediction={}'.format(target_names[digit], target_names[prediction_digits[idx]]))\n",
    "#diagnose(im)\n",
    "show_flattened(im)"
   ]
  },
  {
   "cell_type": "code",
   "execution_count": 143,
   "metadata": {},
   "outputs": [
    {
     "data": {
      "text/plain": [
       "<Figure size 432x288 with 0 Axes>"
      ]
     },
     "execution_count": 143,
     "metadata": {},
     "output_type": "execute_result"
    },
    {
     "data": {
      "text/plain": [
       "<Figure size 432x288 with 0 Axes>"
      ]
     },
     "metadata": {},
     "output_type": "display_data"
    }
   ],
   "source": [
    "plt.style.use('ggplot')\n",
    "plt.figure()\n"
   ]
  },
  {
   "cell_type": "code",
   "execution_count": null,
   "metadata": {},
   "outputs": [],
   "source": []
  }
 ],
 "metadata": {
  "kernelspec": {
   "display_name": "Python 3",
   "language": "python",
   "name": "python3"
  },
  "language_info": {
   "codemirror_mode": {
    "name": "ipython",
    "version": 3
   },
   "file_extension": ".py",
   "mimetype": "text/x-python",
   "name": "python",
   "nbconvert_exporter": "python",
   "pygments_lexer": "ipython3",
   "version": "3.5.2"
  }
 },
 "nbformat": 4,
 "nbformat_minor": 2
}
