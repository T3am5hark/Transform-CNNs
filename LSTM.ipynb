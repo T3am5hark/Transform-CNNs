{
 "cells": [
  {
   "cell_type": "code",
   "execution_count": 1,
   "metadata": {},
   "outputs": [
    {
     "name": "stderr",
     "output_type": "stream",
     "text": [
      "/home/ubuntu/.virtualenvs/gpu2/lib/python3.5/site-packages/h5py/__init__.py:36: FutureWarning: Conversion of the second argument of issubdtype from `float` to `np.floating` is deprecated. In future, it will be treated as `np.float64 == np.dtype(float).type`.\n",
      "  from ._conv import register_converters as _register_converters\n",
      "Using TensorFlow backend.\n"
     ]
    }
   ],
   "source": [
    "%matplotlib inline\n",
    "import numpy as np\n",
    "from sklearn.model_selection import train_test_split\n",
    "from sklearn.metrics import classification_report\n",
    "\n",
    "from keras.models import Sequential\n",
    "from keras.layers import Dense, Activation, Dropout, LSTM\n",
    "from keras.callbacks import ModelCheckpoint\n",
    "from keras.utils import np_utils\n",
    "from keras.models import load_model\n",
    "\n",
    "from keras.preprocessing.text import Tokenizer\n",
    "from keras.preprocessing.text import text_to_word_sequence\n",
    "\n",
    "from matplotlib import pyplot as plt\n",
    "from kerasutils import plot_training_data, describe_model\n",
    "from kerasutils import PermaDropout\n",
    "\n",
    "from lstm_textgen import TextToTrainingData\n"
   ]
  },
  {
   "cell_type": "code",
   "execution_count": 2,
   "metadata": {},
   "outputs": [
    {
     "name": "stdout",
     "output_type": "stream",
     "text": [
      "/home/ubuntu/jdm/cnn/Transform-CNNs\n"
     ]
    }
   ],
   "source": [
    "import os\n",
    "print(os.getcwd())"
   ]
  },
  {
   "cell_type": "code",
   "execution_count": 3,
   "metadata": {},
   "outputs": [
    {
     "name": "stdout",
     "output_type": "stream",
     "text": [
      "239840\n"
     ]
    }
   ],
   "source": [
    "# load ascii text and covert to lowercase\n",
    "#path = '../../data/'\n",
    "#filename = \"ml.txt\"\n",
    "path = './'\n",
    "# No replies in this one\n",
    "filename = '@dril.2018-04-22.txt'\n",
    "raw_text = open(path+filename).read()\n",
    "raw_text = raw_text.lower()\n",
    "\n",
    "print(len(raw_text))"
   ]
  },
  {
   "cell_type": "code",
   "execution_count": 4,
   "metadata": {},
   "outputs": [
    {
     "name": "stdout",
     "output_type": "stream",
     "text": [
      "Total Characters:  239840\n",
      "Total Vocab:  77\n",
      "['\\n', ' ', '!', '\"', '#', '$', '%', '&', \"'\", '(', ')', '*', '+', ',', '-', '.', '/', '0', '1', '2', '3', '4', '5', '6', '7', '8', '9', ':', ';', '=', '?', '@', '[', '\\\\', ']', '^', '_', '`', 'a', 'b', 'c', 'd', 'e', 'f', 'g', 'h', 'i', 'j', 'k', 'l', 'm', 'n', 'o', 'p', 'q', 'r', 's', 't', 'u', 'v', 'w', 'x', 'y', 'z', '°', 'ê', '̶', '—', '…', '™', '▀', '▄', '█', '▐', '░', '⸻', '》']\n"
     ]
    }
   ],
   "source": [
    "text_to_train = TextToTrainingData(raw_text)\n",
    "print(\"Total Characters: \", text_to_train.n_chars)\n",
    "print(\"Total Vocab: \", text_to_train.n_vocab)\n",
    "print(text_to_train.chars)"
   ]
  },
  {
   "cell_type": "code",
   "execution_count": 5,
   "metadata": {},
   "outputs": [
    {
     "name": "stdout",
     "output_type": "stream",
     "text": [
      "Total patterns:  239810\n",
      "(239810, 30, 1)\n",
      "(239810, 77)\n",
      "Input shape: (30, 1)\n"
     ]
    }
   ],
   "source": [
    "seq_length=30\n",
    "X,y = text_to_train.get_training_data(seq_length=seq_length)\n",
    "\n",
    "print(\"Total patterns: \", len(X))\n",
    "print(X.shape)\n",
    "print(y.shape)\n",
    "input_shape = X[0,:,:].shape\n",
    "print('Input shape: {0}'.format(input_shape))"
   ]
  },
  {
   "cell_type": "code",
   "execution_count": 15,
   "metadata": {},
   "outputs": [],
   "source": [
    "# define the LSTM model\n",
    "n_vocab = text_to_train.n_vocab\n",
    "\n",
    "model = Sequential()\n",
    "model.add(LSTM(n_vocab*4, \n",
    "               input_shape=input_shape, \n",
    "               return_sequences=True))\n",
    "model.add(PermaDropout(0.3))\n",
    "model.add(LSTM(n_vocab*2))\n",
    "model.add(PermaDropout(0.3))\n",
    "#model.add(Dense(n_vocab*2))\n",
    "#model.add(Activation('relu'))\n",
    "#model.add(Dropout(0.25))\n",
    "model.add(Dense(n_vocab, activation='softmax'))\n",
    "model.compile(loss='categorical_crossentropy', optimizer='adam', metrics=['accuracy'])"
   ]
  },
  {
   "cell_type": "code",
   "execution_count": 21,
   "metadata": {},
   "outputs": [
    {
     "name": "stdout",
     "output_type": "stream",
     "text": [
      "(150000, 30, 1)\n",
      "(15000, 30, 1)\n",
      "(150000, 77)\n",
      "(15000, 77)\n"
     ]
    }
   ],
   "source": [
    "#print(X.shape)\n",
    "#print(y.shape)\n",
    "nsubset = 150000\n",
    "\n",
    "x_short = X[0:nsubset,:,:]\n",
    "y_short = y[0:nsubset,:]\n",
    "# x_short = X \n",
    "# y_short = y\n",
    "\n",
    "#x_train, x_test, y_train, y_test = train_test_split(x_short, y_short, test_size=0.5)\n",
    "x_train = X[0:(nsubset),:,:]\n",
    "y_train = y[0:(nsubset),:]\n",
    "x_test = X[nsubset:int(1.1*nsubset),:,:]\n",
    "y_test = y[nsubset:int(1.1*nsubset),:]\n",
    "\n",
    "\n",
    "print(x_train.shape)\n",
    "print(x_test.shape)\n",
    "print(y_train.shape)\n",
    "print(y_test.shape)\n"
   ]
  },
  {
   "cell_type": "code",
   "execution_count": 17,
   "metadata": {},
   "outputs": [],
   "source": [
    "callbacks_list = None"
   ]
  },
  {
   "cell_type": "code",
   "execution_count": 93,
   "metadata": {},
   "outputs": [],
   "source": [
    "# define the checkpoint\n",
    "filepath=filename+\".{epoch:02d}-{loss:.4f}.hdf5\"\n",
    "#checkpoint = ModelCheckpoint(filepath, monitor='loss', verbose=1, save_best_only=True, mode='min')\n",
    "checkpoint = ModelCheckpoint(filepath, monitor='val_loss', verbose=1, save_best_only=True, mode='min')\n",
    "callbacks_list = [checkpoint]\n"
   ]
  },
  {
   "cell_type": "code",
   "execution_count": 23,
   "metadata": {
    "scrolled": true
   },
   "outputs": [
    {
     "name": "stdout",
     "output_type": "stream",
     "text": [
      "Train on 150000 samples, validate on 15000 samples\n",
      "Epoch 1/10\n",
      "150000/150000 [==============================] - 44s 296us/step - loss: 2.7342 - acc: 0.2399 - val_loss: 2.7677 - val_acc: 0.2349\n",
      "Epoch 2/10\n",
      "150000/150000 [==============================] - 44s 296us/step - loss: 2.7179 - acc: 0.2430 - val_loss: 2.7479 - val_acc: 0.2401\n",
      "Epoch 3/10\n",
      "150000/150000 [==============================] - 44s 296us/step - loss: 2.7023 - acc: 0.2459 - val_loss: 2.7338 - val_acc: 0.2415\n",
      "Epoch 4/10\n",
      "150000/150000 [==============================] - 44s 296us/step - loss: 2.6868 - acc: 0.2482 - val_loss: 2.7285 - val_acc: 0.2417\n",
      "Epoch 5/10\n",
      "150000/150000 [==============================] - 44s 296us/step - loss: 2.6699 - acc: 0.2519 - val_loss: 2.7225 - val_acc: 0.2433\n",
      "Epoch 6/10\n",
      "150000/150000 [==============================] - 44s 296us/step - loss: 2.6549 - acc: 0.2549 - val_loss: 2.7080 - val_acc: 0.2475\n",
      "Epoch 7/10\n",
      "150000/150000 [==============================] - 44s 296us/step - loss: 2.6376 - acc: 0.2578 - val_loss: 2.6888 - val_acc: 0.2502\n",
      "Epoch 8/10\n",
      "150000/150000 [==============================] - 44s 296us/step - loss: 2.6229 - acc: 0.2607 - val_loss: 2.6744 - val_acc: 0.2565\n",
      "Epoch 9/10\n",
      "150000/150000 [==============================] - 44s 296us/step - loss: 2.6085 - acc: 0.2661 - val_loss: 2.6669 - val_acc: 0.2551\n",
      "Epoch 10/10\n",
      "150000/150000 [==============================] - 44s 296us/step - loss: 2.5910 - acc: 0.2698 - val_loss: 2.6587 - val_acc: 0.2614\n"
     ]
    }
   ],
   "source": [
    "batch_size=512\n",
    "n_epochs=10\n",
    "\n",
    "h=model.fit(x_train, y_train, epochs=n_epochs, batch_size=batch_size, \n",
    "            validation_data=(x_test, y_test),\n",
    "            callbacks=callbacks_list)"
   ]
  },
  {
   "cell_type": "code",
   "execution_count": 12,
   "metadata": {
    "scrolled": true
   },
   "outputs": [
    {
     "data": {
      "image/png": "[encoded data removed]",
      "text/plain": [
       "<Figure size 576x360 with 1 Axes>"
      ]
     },
     "metadata": {},
     "output_type": "display_data"
    }
   ],
   "source": [
    "plot_training_data(h)"
   ]
  },
  {
   "cell_type": "code",
   "execution_count": 16,
   "metadata": {},
   "outputs": [],
   "source": [
    "model.layers[1].rate = 0.4\n",
    "model.layers[3].rate = 0.4"
   ]
  },
  {
   "cell_type": "code",
   "execution_count": null,
   "metadata": {},
   "outputs": [],
   "source": [
    "prompt = text_to_train.prompt_input('this that or the other ', input_shape[0])\n",
    "text = text_to_train.generate_text(model=model, \n",
    "                                   generated_seq_length=280, \n",
    "                                   prompt=prompt)\n",
    "print(text)\n",
    "#print(len(text))"
   ]
  },
  {
   "cell_type": "code",
   "execution_count": null,
   "metadata": {},
   "outputs": [
    {
     "name": "stdout",
     "output_type": "stream",
     "text": [
      "?One thing and another\n",
      "         One thing and another the seet the poe to thet the can to the toil the can the bon the cane the cocke to the toil the tirl the tiin th the canl to the the thet the con to the thet the toee the totl the\n",
      "?toilet is not going to get it done\n",
      "et is not going to get it done the con the conl the soul to me the coa the tool the soen the torl teet the gare the cat the tee teet the tare the con the colk the gat the coo the toil to the thet the terl the t\n"
     ]
    }
   ],
   "source": [
    "inp = 'blah'\n",
    "\n",
    "while len(inp) > 0:\n",
    "    inp = input('?')\n",
    "    if len(inp) > input_shape[0]:\n",
    "        inp = inp[-input_shape[0]:]\n",
    "    prompt = text_to_train.prompt_input(inp, input_shape[0])\n",
    "    text = text_to_train.generate_text(model=model, \n",
    "                                       generated_seq_length=180, \n",
    "                                       prompt=prompt)\n",
    "    print(text)"
   ]
  },
  {
   "cell_type": "code",
   "execution_count": 175,
   "metadata": {},
   "outputs": [
    {
     "name": "stdout",
     "output_type": "stream",
     "text": [
      "Layer 0: <class 'keras.layers.recurrent.LSTM'>\n",
      "    input=(None, 30, 1)\n",
      "    output=(None, 30, 308)\n",
      "    act=<function tanh at 0x7f330a7188c8>\n",
      "Layer 1: <class 'keras.layers.core.Dropout'>\n",
      "    input=(None, 30, 308)\n",
      "    output=(None, 30, 308)\n",
      "    rate=0.15\n",
      "Layer 2: <class 'keras.layers.recurrent.LSTM'>\n",
      "    input=(None, 30, 308)\n",
      "    output=(None, 154)\n",
      "    act=<function tanh at 0x7f330a7188c8>\n",
      "Layer 3: <class 'keras.layers.core.Dropout'>\n",
      "    input=(None, 154)\n",
      "    output=(None, 154)\n",
      "    rate=0.15\n",
      "Layer 4: <class 'keras.layers.core.Dense'>\n",
      "    input=(None, 154)\n",
      "    output=(None, 77)\n",
      "    act=<function softmax at 0x7f330a718598>\n"
     ]
    }
   ],
   "source": [
    "describe_model(model)"
   ]
  },
  {
   "cell_type": "code",
   "execution_count": 13,
   "metadata": {},
   "outputs": [
    {
     "name": "stdout",
     "output_type": "stream",
     "text": [
      "Layer 0: <class 'keras.layers.recurrent.LSTM'>\n",
      "    input=(None, 30, 1)\n",
      "    output=(None, 30, 308)\n",
      "    act=<function relu at 0x7f394bb4cea0>\n",
      "Layer 1: <class 'keras.layers.core.Dropout'>\n",
      "    input=(None, 30, 308)\n",
      "    output=(None, 30, 308)\n",
      "    rate=0.2\n",
      "Layer 2: <class 'keras.layers.recurrent.LSTM'>\n",
      "    input=(None, 30, 308)\n",
      "    output=(None, 154)\n",
      "    act=<function relu at 0x7f394bb4cea0>\n",
      "Layer 3: <class 'keras.layers.core.Dropout'>\n",
      "    input=(None, 154)\n",
      "    output=(None, 154)\n",
      "    rate=0.2\n",
      "Layer 4: <class 'keras.layers.core.Dense'>\n",
      "    input=(None, 154)\n",
      "    output=(None, 77)\n",
      "    act=<function softmax at 0x7f394bb4cbf8>\n"
     ]
    }
   ],
   "source": [
    "describe_model(model)"
   ]
  },
  {
   "cell_type": "code",
   "execution_count": 176,
   "metadata": {
    "scrolled": true
   },
   "outputs": [
    {
     "name": "stdout",
     "output_type": "stream",
     "text": [
      "[INFO] Evaluating network...\n",
      "             precision    recall  f1-score   support\n",
      "\n",
      "          \n",
      "       0.62      0.53      0.57       529\n",
      "                  0.70      0.85      0.77      7497\n",
      "          !       0.82      0.39      0.53        36\n",
      "          \"       0.47      0.50      0.49       253\n",
      "          #       0.62      0.53      0.57        15\n",
      "          $       0.60      0.25      0.35        12\n",
      "          %       0.00      0.00      0.00         4\n",
      "          &       0.33      0.11      0.16        19\n",
      "          '       0.79      0.28      0.41        40\n",
      "          (       0.67      0.13      0.22        30\n",
      "          )       1.00      0.14      0.25        35\n",
      "          *       1.00      0.50      0.67         2\n",
      "          +       0.52      0.30      0.38       225\n",
      "          ,       0.35      0.15      0.21        39\n",
      "          -       0.75      0.47      0.58       374\n",
      "          .       0.98      0.95      0.96       226\n",
      "          /       0.58      0.76      0.66       105\n",
      "          0       0.44      0.26      0.33        69\n",
      "          1       0.54      0.37      0.43        41\n",
      "          2       0.29      0.21      0.24        24\n",
      "          3       0.46      0.21      0.29        28\n",
      "          4       0.43      0.18      0.26        33\n",
      "          5       0.42      0.18      0.25        28\n",
      "          6       0.58      0.52      0.55        21\n",
      "          7       0.50      0.39      0.44        18\n",
      "          8       0.43      0.36      0.39        33\n",
      "          9       0.81      0.67      0.73       124\n",
      "          :       0.90      0.83      0.86        23\n",
      "          ;       0.00      0.00      0.00         3\n",
      "          =       0.86      0.46      0.60        13\n",
      "          ?       0.72      0.71      0.71       153\n",
      "          @       1.00      1.00      1.00         1\n",
      "          [       1.00      0.67      0.80         6\n",
      "          \\       1.00      1.00      1.00         1\n",
      "          ]       0.75      0.35      0.48        17\n",
      "          ^       0.00      0.00      0.00         1\n",
      "          _       0.56      0.51      0.53      2484\n",
      "          `       0.46      0.42      0.44       560\n",
      "          a       0.64      0.54      0.59      1186\n",
      "          b       0.54      0.51      0.52      1145\n",
      "          c       0.60      0.66      0.63      3706\n",
      "          d       0.60      0.54      0.57       869\n",
      "          e       0.64      0.56      0.60       905\n",
      "          f       0.66      0.66      0.66      1699\n",
      "          g       0.62      0.55      0.59      2545\n",
      "          h       0.38      0.27      0.31       115\n",
      "          i       0.63      0.56      0.59       591\n",
      "          j       0.65      0.54      0.59      1551\n",
      "          k       0.50      0.50      0.50      1113\n",
      "          l       0.62      0.62      0.62      2224\n",
      "          m       0.64      0.65      0.64      2924\n",
      "          n       0.53      0.47      0.50       886\n",
      "          o       0.30      0.24      0.27        55\n",
      "          p       0.54      0.56      0.55      1744\n",
      "          q       0.51      0.55      0.53      2327\n",
      "          r       0.58      0.64      0.61      3081\n",
      "          s       0.66      0.55      0.60      1137\n",
      "          t       0.60      0.43      0.50       341\n",
      "          u       0.49      0.47      0.48       722\n",
      "          v       0.56      0.23      0.33        82\n",
      "          w       0.60      0.47      0.53       848\n",
      "          x       0.29      0.25      0.27        61\n",
      "          y       0.00      0.00      0.00         1\n",
      "          z       1.00      0.67      0.80         3\n",
      "          °       0.00      0.00      0.00        14\n",
      "          ê       0.00      0.00      0.00         1\n",
      "          ̶       0.00      0.00      0.00         1\n",
      "\n",
      "avg / total       0.61      0.61      0.61     44999\n",
      "\n"
     ]
    },
    {
     "name": "stderr",
     "output_type": "stream",
     "text": [
      "/home/ubuntu/.virtualenvs/gpu2/lib/python3.5/site-packages/sklearn/metrics/classification.py:1428: UserWarning: labels size, 67, does not match size of target_names, 77\n",
      "  .format(len(labels), len(target_names))\n",
      "/home/ubuntu/.virtualenvs/gpu2/lib/python3.5/site-packages/sklearn/metrics/classification.py:1135: UndefinedMetricWarning: Precision and F-score are ill-defined and being set to 0.0 in labels with no predicted samples.\n",
      "  'precision', 'predicted', average, warn_for)\n"
     ]
    }
   ],
   "source": [
    "# Evaluate TEST model class prediction accuracy\n",
    "print(\"[INFO] Evaluating network...\")\n",
    "predictions = model.predict(x_test, batch_size=batch_size)\n",
    "target_names = chars\n",
    "print(classification_report(y_test.argmax(axis=1),\n",
    "                            predictions.argmax(axis=1),\n",
    "                            target_names=target_names))"
   ]
  },
  {
   "cell_type": "code",
   "execution_count": 150,
   "metadata": {},
   "outputs": [
    {
     "name": "stdout",
     "output_type": "stream",
     "text": [
      "[INFO] Evaluating network...\n",
      "             precision    recall  f1-score   support\n",
      "\n",
      "          \n",
      "       0.79      0.48      0.59      1196\n",
      "                  0.68      0.87      0.76     16696\n",
      "          !       0.83      0.57      0.68        70\n",
      "          \"       0.73      0.44      0.55       626\n",
      "          #       0.91      0.28      0.43        36\n",
      "          $       1.00      0.20      0.33        35\n",
      "          %       0.67      0.15      0.25        13\n",
      "          &       0.58      0.18      0.28        38\n",
      "          '       0.92      0.15      0.26        72\n",
      "          (       0.60      0.06      0.12        47\n",
      "          )       0.85      0.19      0.31        58\n",
      "          *       0.00      0.00      0.00         2\n",
      "          +       0.77      0.24      0.37       478\n",
      "          ,       0.82      0.16      0.26        90\n",
      "          -       0.83      0.45      0.59       833\n",
      "          .       0.99      0.96      0.98       521\n",
      "          /       0.65      0.77      0.71       275\n",
      "          0       0.68      0.36      0.47       168\n",
      "          1       0.70      0.43      0.53       117\n",
      "          2       0.74      0.34      0.47        59\n",
      "          3       0.65      0.34      0.45        58\n",
      "          4       0.63      0.26      0.37        65\n",
      "          5       0.62      0.28      0.39        57\n",
      "          6       0.68      0.53      0.60        60\n",
      "          7       0.67      0.41      0.51        59\n",
      "          8       0.71      0.50      0.59        88\n",
      "          9       0.93      0.71      0.80       265\n",
      "          :       0.95      0.82      0.88        50\n",
      "          ;       0.00      0.00      0.00         3\n",
      "          =       0.93      0.50      0.65        26\n",
      "          ?       0.73      0.67      0.70       295\n",
      "          @       1.00      1.00      1.00         1\n",
      "          [       0.00      0.00      0.00         6\n",
      "          \\       0.00      0.00      0.00         1\n",
      "          ]       0.81      0.53      0.64        32\n",
      "          ^       1.00      0.33      0.50         9\n",
      "          _       0.55      0.58      0.56      5541\n",
      "          `       0.54      0.44      0.48      1322\n",
      "          a       0.58      0.57      0.58      2428\n",
      "          b       0.64      0.49      0.56      2556\n",
      "          c       0.63      0.66      0.64      8323\n",
      "          d       0.60      0.57      0.59      1804\n",
      "          e       0.73      0.60      0.66      2030\n",
      "          f       0.72      0.68      0.70      3796\n",
      "          g       0.63      0.55      0.59      5638\n",
      "          h       0.58      0.32      0.41       263\n",
      "          i       0.63      0.59      0.61      1260\n",
      "          j       0.66      0.54      0.59      3407\n",
      "          k       0.55      0.53      0.54      2421\n",
      "          l       0.60      0.65      0.63      4908\n",
      "          m       0.60      0.67      0.64      6488\n",
      "          n       0.60      0.49      0.54      1918\n",
      "          o       0.56      0.33      0.42       121\n",
      "          p       0.56      0.57      0.57      3916\n",
      "          q       0.58      0.51      0.54      5138\n",
      "          r       0.56      0.65      0.60      7022\n",
      "          s       0.71      0.58      0.64      2497\n",
      "          t       0.65      0.47      0.54       766\n",
      "          u       0.50      0.46      0.48      1543\n",
      "          v       0.52      0.26      0.35       165\n",
      "          w       0.72      0.46      0.56      1898\n",
      "          x       0.52      0.50      0.51       155\n",
      "          y       0.00      0.00      0.00         1\n",
      "          z       1.00      1.00      1.00         5\n",
      "          °       1.00      0.38      0.55         8\n",
      "          ê       1.00      0.15      0.27        26\n",
      "          ̶       0.00      0.00      0.00        16\n",
      "          —       0.00      0.00      0.00        15\n",
      "          …       1.00      0.11      0.20         9\n",
      "          ™       0.00      0.00      0.00        11\n",
      "          ▀       0.57      0.92      0.70        77\n",
      "          ▄       0.00      0.00      0.00         1\n",
      "          █       0.00      0.00      0.00         1\n",
      "\n",
      "avg / total       0.63      0.63      0.62     99999\n",
      "\n"
     ]
    },
    {
     "name": "stderr",
     "output_type": "stream",
     "text": [
      "/home/ubuntu/.virtualenvs/gpu2/lib/python3.5/site-packages/sklearn/metrics/classification.py:1428: UserWarning: labels size, 73, does not match size of target_names, 77\n",
      "  .format(len(labels), len(target_names))\n",
      "/home/ubuntu/.virtualenvs/gpu2/lib/python3.5/site-packages/sklearn/metrics/classification.py:1135: UndefinedMetricWarning: Precision and F-score are ill-defined and being set to 0.0 in labels with no predicted samples.\n",
      "  'precision', 'predicted', average, warn_for)\n"
     ]
    }
   ],
   "source": [
    "# Evaluate TRAIN model class prediction accuracy\n",
    "print(\"[INFO] Evaluating network...\")\n",
    "predictions = model.predict(x_train, batch_size=batch_size)\n",
    "target_names = chars\n",
    "print(classification_report(y_train.argmax(axis=1),\n",
    "                            predictions.argmax(axis=1),\n",
    "                            target_names=target_names))"
   ]
  },
  {
   "cell_type": "code",
   "execution_count": 69,
   "metadata": {},
   "outputs": [],
   "source": [
    "# load the network weights for the final model\n",
    "#weights_file = \"ml.txt.10-2.8160.hdf5\"\n",
    "weights_file = \"@dril.2018-04-22.txt.16-0.2807.hdf5\"\n",
    "#model.load_weights(weights_file)\n",
    "model = load_model(weights_file)\n",
    "model.compile(loss='categorical_crossentropy', optimizer='adam', metrics=['accuracy'])"
   ]
  },
  {
   "cell_type": "code",
   "execution_count": 134,
   "metadata": {},
   "outputs": [
    {
     "name": "stdout",
     "output_type": "stream",
     "text": [
      "[[142.4025974 ]\n",
      " [125.84415584]\n",
      " [165.58441558]\n",
      " [172.20779221]\n",
      " [192.07792208]\n",
      " [185.45454545]\n",
      " [  3.31168831]\n",
      " [129.15584416]\n",
      " [205.32467532]\n",
      " [  3.31168831]\n",
      " [135.77922078]\n",
      " [182.14285714]\n",
      " [ 49.67532468]\n",
      " [  3.31168831]\n",
      " [139.09090909]\n",
      " [195.38961039]\n",
      " [152.33766234]\n",
      " [162.27272727]\n",
      " [  3.31168831]\n",
      " [152.33766234]\n",
      " [168.8961039 ]\n",
      " [  3.31168831]\n",
      " [125.84415584]\n",
      " [192.07792208]\n",
      " [185.45454545]\n",
      " [188.76623377]\n",
      " [152.33766234]\n",
      " [168.8961039 ]\n",
      " [  3.31168831]\n",
      " [175.51948052]]\n",
      "[[125.84415584]\n",
      " [165.58441558]\n",
      " [172.20779221]\n",
      " [192.07792208]\n",
      " [185.45454545]\n",
      " [  3.31168831]\n",
      " [129.15584416]\n",
      " [205.32467532]\n",
      " [  3.31168831]\n",
      " [135.77922078]\n",
      " [182.14285714]\n",
      " [ 49.67532468]\n",
      " [  3.31168831]\n",
      " [139.09090909]\n",
      " [195.38961039]\n",
      " [152.33766234]\n",
      " [162.27272727]\n",
      " [  3.31168831]\n",
      " [152.33766234]\n",
      " [168.8961039 ]\n",
      " [  3.31168831]\n",
      " [125.84415584]\n",
      " [192.07792208]\n",
      " [185.45454545]\n",
      " [188.76623377]\n",
      " [152.33766234]\n",
      " [168.8961039 ]\n",
      " [  3.31168831]\n",
      " [175.51948052]\n",
      " [172.20779221]]\n"
     ]
    }
   ],
   "source": [
    "print(255*x_train[100,:,:])\n",
    "print(255*x_train[101,:,:])"
   ]
  }
 ],
 "metadata": {
  "kernelspec": {
   "display_name": "Python 3",
   "language": "python",
   "name": "python3"
  },
  "language_info": {
   "codemirror_mode": {
    "name": "ipython",
    "version": 3
   },
   "file_extension": ".py",
   "mimetype": "text/x-python",
   "name": "python",
   "nbconvert_exporter": "python",
   "pygments_lexer": "ipython3",
   "version": "3.5.2"
  }
 },
 "nbformat": 4,
 "nbformat_minor": 2
}
