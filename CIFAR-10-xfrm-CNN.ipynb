{
 "cells": [
  {
   "cell_type": "code",
   "execution_count": 1,
   "metadata": {},
   "outputs": [
    {
     "name": "stderr",
     "output_type": "stream",
     "text": [
      "/home/jmoore/.virtualenvs/dl4cv/lib/python3.5/site-packages/h5py/__init__.py:36: FutureWarning: Conversion of the second argument of issubdtype from `float` to `np.floating` is deprecated. In future, it will be treated as `np.float64 == np.dtype(float).type`.\n",
      "  from ._conv import register_converters as _register_converters\n",
      "Using TensorFlow backend.\n"
     ]
    }
   ],
   "source": [
    "%matplotlib inline\n",
    "from sklearn.preprocessing import LabelBinarizer\n",
    "from sklearn.model_selection import train_test_split\n",
    "from sklearn.metrics import classification_report\n",
    "from sklearn import datasets\n",
    "\n",
    "from keras.models import Sequential\n",
    "from keras.layers.core import Dense, Dropout, Activation, Flatten\n",
    "from keras.layers.convolutional import Conv2D, MaxPooling2D\n",
    "from keras.optimizers import SGD\n",
    "from keras import regularizers\n",
    "\n",
    "from keras.datasets import cifar10\n",
    "\n",
    "from kerasutils import hits_and_misses, describe_model\n",
    "from imageutils import block_dct\n",
    "from imageutils import dataset_transform_block_dct\n",
    "\n",
    "import matplotlib.pyplot as plt\n",
    "import numpy as np\n",
    "\n",
    "import random"
   ]
  },
  {
   "cell_type": "code",
   "execution_count": 2,
   "metadata": {},
   "outputs": [],
   "source": [
    "(trainX_orig, trainY_orig), (testX, testY) = cifar10.load_data()"
   ]
  },
  {
   "cell_type": "code",
   "execution_count": 3,
   "metadata": {},
   "outputs": [],
   "source": [
    "# Have to decimate training set size due to memory constraints?\n",
    "(trainX, testX_dummy, trainY, testY_dummy) = train_test_split(trainX_orig, trainY_orig, test_size=0.25)"
   ]
  },
  {
   "cell_type": "code",
   "execution_count": 4,
   "metadata": {},
   "outputs": [
    {
     "name": "stdout",
     "output_type": "stream",
     "text": [
      "(37500, 32, 32, 3)\n",
      "(10000, 32, 32, 3)\n",
      "float64\n"
     ]
    }
   ],
   "source": [
    "trainX = trainX / 255.0\n",
    "testX = testX / 255.0\n",
    "print(trainX.shape)\n",
    "print(testX.shape)\n",
    "print(trainX.dtype)"
   ]
  },
  {
   "cell_type": "code",
   "execution_count": 5,
   "metadata": {},
   "outputs": [
    {
     "name": "stdout",
     "output_type": "stream",
     "text": [
      "(37500, 56, 56, 3)\n",
      "(10000, 56, 56, 3)\n"
     ]
    }
   ],
   "source": [
    "trainX = dataset_transform_block_dct(trainX)\n",
    "testX = dataset_transform_block_dct(testX)\n",
    "print(trainX.shape)\n",
    "print(testX.shape)"
   ]
  },
  {
   "cell_type": "code",
   "execution_count": 8,
   "metadata": {},
   "outputs": [
    {
     "name": "stdout",
     "output_type": "stream",
     "text": [
      "(37500, 10)\n",
      "(10000, 10)\n"
     ]
    }
   ],
   "source": [
    "# Transform labels from int to one-hot vectors\n",
    "lb = LabelBinarizer()\n",
    "trainY = lb.fit_transform(trainY)\n",
    "testY = lb.fit_transform(testY)\n",
    "\n",
    "print(trainY.shape)\n",
    "print(testY.shape)\n",
    "n_classes = trainY.shape[1]\n",
    "height = trainX.shape[1]\n",
    "width = trainX.shape[2]\n",
    "channels = trainX.shape[3]"
   ]
  },
  {
   "cell_type": "code",
   "execution_count": 49,
   "metadata": {},
   "outputs": [],
   "source": [
    "# \"Transform\" CNN architecture with Keras\n",
    "model = Sequential()\n",
    "model.add(Conv2D(input_shape=(height,width,channels), filters=64,  \n",
    "                 use_bias=True, kernel_size=(8,8), strides=8))\n",
    "model.add(Activation('relu'))\n",
    "model.add(Dropout(0.1))\n",
    "model.add(Conv2D(filters=64,use_bias=True, kernel_size=(3,3)))\n",
    "model.add(Activation('relu'))\n",
    "model.add(Dropout(0.2))\n",
    "model.add(Flatten())\n",
    "model.add(Dense(256))\n",
    "model.add(Activation('relu'))\n",
    "model.add(Dropout(0.5))\n",
    "model.add(Dense(lb.classes_.shape[0], activation=\"softmax\"))\n",
    "model.compile(loss='categorical_crossentropy', optimizer='adam', metrics=['accuracy'])"
   ]
  },
  {
   "cell_type": "code",
   "execution_count": 58,
   "metadata": {},
   "outputs": [
    {
     "name": "stdout",
     "output_type": "stream",
     "text": [
      "Train on 37500 samples, validate on 10000 samples\n",
      "Epoch 1/50\n",
      "37500/37500 [==============================] - 8s 211us/step - loss: 0.4720 - acc: 0.8301 - val_loss: 0.8756 - val_acc: 0.7177\n",
      "Epoch 2/50\n",
      "37500/37500 [==============================] - 8s 209us/step - loss: 0.4612 - acc: 0.8349 - val_loss: 0.8797 - val_acc: 0.7188\n",
      "Epoch 3/50\n",
      "37500/37500 [==============================] - 8s 207us/step - loss: 0.4562 - acc: 0.8341 - val_loss: 0.8700 - val_acc: 0.7205\n",
      "Epoch 4/50\n",
      "37500/37500 [==============================] - 8s 206us/step - loss: 0.4524 - acc: 0.8378 - val_loss: 0.8981 - val_acc: 0.7191\n",
      "Epoch 5/50\n",
      "37500/37500 [==============================] - 8s 212us/step - loss: 0.4366 - acc: 0.8419 - val_loss: 0.8886 - val_acc: 0.7188\n",
      "Epoch 6/50\n",
      "37500/37500 [==============================] - 8s 219us/step - loss: 0.4272 - acc: 0.8444 - val_loss: 0.9139 - val_acc: 0.7220\n",
      "Epoch 7/50\n",
      "37500/37500 [==============================] - 8s 221us/step - loss: 0.4304 - acc: 0.8444 - val_loss: 0.8936 - val_acc: 0.7183\n",
      "Epoch 8/50\n",
      "37500/37500 [==============================] - 8s 219us/step - loss: 0.4179 - acc: 0.8502 - val_loss: 0.9001 - val_acc: 0.7222\n",
      "Epoch 9/50\n",
      "37500/37500 [==============================] - 8s 217us/step - loss: 0.4136 - acc: 0.8510 - val_loss: 0.9055 - val_acc: 0.7192\n",
      "Epoch 10/50\n",
      "37500/37500 [==============================] - 8s 217us/step - loss: 0.4065 - acc: 0.8545 - val_loss: 0.9246 - val_acc: 0.7185\n",
      "Epoch 11/50\n",
      "37500/37500 [==============================] - 8s 222us/step - loss: 0.4001 - acc: 0.8563 - val_loss: 0.9318 - val_acc: 0.7223\n",
      "Epoch 12/50\n",
      "37500/37500 [==============================] - 9s 229us/step - loss: 0.3966 - acc: 0.8579 - val_loss: 0.9111 - val_acc: 0.7233\n",
      "Epoch 13/50\n",
      "37500/37500 [==============================] - 8s 224us/step - loss: 0.3867 - acc: 0.8596 - val_loss: 0.9234 - val_acc: 0.7232\n",
      "Epoch 14/50\n",
      "37500/37500 [==============================] - 8s 224us/step - loss: 0.3811 - acc: 0.8615 - val_loss: 0.9207 - val_acc: 0.7245\n",
      "Epoch 15/50\n",
      "37500/37500 [==============================] - 8s 221us/step - loss: 0.3734 - acc: 0.8657 - val_loss: 0.9291 - val_acc: 0.7208\n",
      "Epoch 16/50\n",
      "37500/37500 [==============================] - 8s 223us/step - loss: 0.3694 - acc: 0.8688 - val_loss: 0.9266 - val_acc: 0.7237\n",
      "Epoch 17/50\n",
      "37500/37500 [==============================] - 9s 230us/step - loss: 0.3628 - acc: 0.8692 - val_loss: 0.9459 - val_acc: 0.7217\n",
      "Epoch 18/50\n",
      "37500/37500 [==============================] - 8s 221us/step - loss: 0.3651 - acc: 0.8689 - val_loss: 0.9411 - val_acc: 0.7158\n",
      "Epoch 19/50\n",
      "37500/37500 [==============================] - 8s 223us/step - loss: 0.3571 - acc: 0.8717 - val_loss: 0.9734 - val_acc: 0.7197\n",
      "Epoch 20/50\n",
      "37500/37500 [==============================] - 8s 225us/step - loss: 0.3546 - acc: 0.8710 - val_loss: 0.9668 - val_acc: 0.7198\n",
      "Epoch 21/50\n",
      "37500/37500 [==============================] - 8s 225us/step - loss: 0.3495 - acc: 0.8724 - val_loss: 0.9770 - val_acc: 0.7219\n",
      "Epoch 22/50\n",
      "37500/37500 [==============================] - 8s 224us/step - loss: 0.3458 - acc: 0.8740 - val_loss: 0.9591 - val_acc: 0.7210\n",
      "Epoch 23/50\n",
      "37500/37500 [==============================] - 9s 238us/step - loss: 0.3357 - acc: 0.8759 - val_loss: 0.9615 - val_acc: 0.7190\n",
      "Epoch 24/50\n",
      "37500/37500 [==============================] - 9s 234us/step - loss: 0.3425 - acc: 0.8742 - val_loss: 0.9898 - val_acc: 0.7187\n",
      "Epoch 25/50\n",
      "37500/37500 [==============================] - 8s 225us/step - loss: 0.3364 - acc: 0.8783 - val_loss: 0.9731 - val_acc: 0.7200\n",
      "Epoch 26/50\n",
      "37500/37500 [==============================] - 9s 230us/step - loss: 0.3324 - acc: 0.8811 - val_loss: 0.9718 - val_acc: 0.7198\n",
      "Epoch 27/50\n",
      "37500/37500 [==============================] - 8s 225us/step - loss: 0.3269 - acc: 0.8823 - val_loss: 1.0067 - val_acc: 0.7144\n",
      "Epoch 28/50\n",
      "37500/37500 [==============================] - 9s 229us/step - loss: 0.3315 - acc: 0.8812 - val_loss: 0.9874 - val_acc: 0.7218\n",
      "Epoch 29/50\n",
      "37500/37500 [==============================] - 8s 226us/step - loss: 0.3272 - acc: 0.8819 - val_loss: 0.9880 - val_acc: 0.7206\n",
      "Epoch 30/50\n",
      "37500/37500 [==============================] - 9s 232us/step - loss: 0.3308 - acc: 0.8799 - val_loss: 0.9925 - val_acc: 0.7191\n",
      "Epoch 31/50\n",
      "37500/37500 [==============================] - 9s 252us/step - loss: 0.3162 - acc: 0.8850 - val_loss: 1.0098 - val_acc: 0.7237\n",
      "Epoch 32/50\n",
      "37500/37500 [==============================] - 9s 230us/step - loss: 0.3155 - acc: 0.8871 - val_loss: 1.0075 - val_acc: 0.7173\n",
      "Epoch 33/50\n",
      "37500/37500 [==============================] - 8s 219us/step - loss: 0.3156 - acc: 0.8862 - val_loss: 1.0111 - val_acc: 0.7178\n",
      "Epoch 34/50\n",
      "37500/37500 [==============================] - 9s 238us/step - loss: 0.3083 - acc: 0.8897 - val_loss: 1.0004 - val_acc: 0.7187\n",
      "Epoch 35/50\n",
      "37500/37500 [==============================] - 9s 247us/step - loss: 0.3149 - acc: 0.8862 - val_loss: 1.0205 - val_acc: 0.7155\n",
      "Epoch 36/50\n",
      "37500/37500 [==============================] - 9s 248us/step - loss: 0.3131 - acc: 0.8874 - val_loss: 1.0186 - val_acc: 0.7217\n",
      "Epoch 37/50\n",
      "37500/37500 [==============================] - 9s 230us/step - loss: 0.3102 - acc: 0.8862 - val_loss: 1.0149 - val_acc: 0.7163\n",
      "Epoch 38/50\n",
      "37500/37500 [==============================] - 9s 234us/step - loss: 0.3031 - acc: 0.8923 - val_loss: 1.0595 - val_acc: 0.7224\n",
      "Epoch 39/50\n",
      "37500/37500 [==============================] - 9s 248us/step - loss: 0.2982 - acc: 0.8918 - val_loss: 1.0261 - val_acc: 0.7187\n",
      "Epoch 40/50\n",
      "37500/37500 [==============================] - 9s 231us/step - loss: 0.3065 - acc: 0.8893 - val_loss: 1.0271 - val_acc: 0.7251\n",
      "Epoch 41/50\n",
      "37500/37500 [==============================] - 9s 236us/step - loss: 0.2948 - acc: 0.8951 - val_loss: 1.0384 - val_acc: 0.7230\n",
      "Epoch 42/50\n",
      "37500/37500 [==============================] - 9s 233us/step - loss: 0.2992 - acc: 0.8921 - val_loss: 1.0326 - val_acc: 0.7215\n",
      "Epoch 43/50\n",
      "37500/37500 [==============================] - 9s 231us/step - loss: 0.2940 - acc: 0.8945 - val_loss: 1.0200 - val_acc: 0.7226\n",
      "Epoch 44/50\n",
      "37500/37500 [==============================] - 9s 232us/step - loss: 0.2985 - acc: 0.8914 - val_loss: 1.0413 - val_acc: 0.7230\n",
      "Epoch 45/50\n",
      "37500/37500 [==============================] - 9s 231us/step - loss: 0.2934 - acc: 0.8945 - val_loss: 1.0386 - val_acc: 0.7166\n",
      "Epoch 46/50\n",
      "37500/37500 [==============================] - 9s 235us/step - loss: 0.2900 - acc: 0.8952 - val_loss: 1.0468 - val_acc: 0.7217\n",
      "Epoch 47/50\n",
      "37500/37500 [==============================] - 9s 231us/step - loss: 0.2916 - acc: 0.8956 - val_loss: 1.0566 - val_acc: 0.7246\n",
      "Epoch 48/50\n",
      "37500/37500 [==============================] - 9s 231us/step - loss: 0.2921 - acc: 0.8948 - val_loss: 1.0484 - val_acc: 0.7192\n",
      "Epoch 49/50\n",
      "37500/37500 [==============================] - 9s 235us/step - loss: 0.2866 - acc: 0.8969 - val_loss: 1.0324 - val_acc: 0.7239\n",
      "Epoch 50/50\n",
      "37500/37500 [==============================] - 9s 233us/step - loss: 0.2791 - acc: 0.8986 - val_loss: 1.0592 - val_acc: 0.7223\n",
      "Done!!!\n"
     ]
    }
   ],
   "source": [
    "n_epochs = 50\n",
    "batch_size = 256\n",
    "H = model.fit(trainX, trainY, validation_data=(testX, testY), \n",
    "              epochs=n_epochs, batch_size=batch_size)\n",
    "print('Done!!!')"
   ]
  },
  {
   "cell_type": "code",
   "execution_count": 59,
   "metadata": {},
   "outputs": [
    {
     "name": "stdout",
     "output_type": "stream",
     "text": [
      "[INFO] Evaluating network...\n",
      "             precision    recall  f1-score   support\n",
      "\n",
      "          0       0.74      0.79      0.76      1000\n",
      "          1       0.84      0.83      0.83      1000\n",
      "          2       0.60      0.67      0.63      1000\n",
      "          3       0.55      0.48      0.51      1000\n",
      "          4       0.67      0.70      0.68      1000\n",
      "          5       0.62      0.59      0.61      1000\n",
      "          6       0.77      0.81      0.79      1000\n",
      "          7       0.79      0.73      0.76      1000\n",
      "          8       0.84      0.84      0.84      1000\n",
      "          9       0.82      0.78      0.80      1000\n",
      "\n",
      "avg / total       0.72      0.72      0.72     10000\n",
      "\n"
     ]
    }
   ],
   "source": [
    "# Evaluate TEST model class prediction accuracy\n",
    "print(\"[INFO] Evaluating network...\")\n",
    "predictions = model.predict(testX, batch_size=batch_size)\n",
    "target_names = [str(x) for x in lb.classes_]\n",
    "print(classification_report(testY.argmax(axis=1),\n",
    "                            predictions.argmax(axis=1),\n",
    "                            target_names=target_names))\n"
   ]
  },
  {
   "cell_type": "code",
   "execution_count": 60,
   "metadata": {},
   "outputs": [
    {
     "name": "stdout",
     "output_type": "stream",
     "text": [
      "[INFO] Evaluating network...\n",
      "             precision    recall  f1-score   support\n",
      "\n",
      "          0       1.00      1.00      1.00      3753\n",
      "          1       1.00      1.00      1.00      3791\n",
      "          2       0.99      1.00      0.99      3774\n",
      "          3       1.00      0.99      0.99      3696\n",
      "          4       0.99      1.00      0.99      3725\n",
      "          5       1.00      0.99      1.00      3762\n",
      "          6       1.00      1.00      1.00      3724\n",
      "          7       1.00      1.00      1.00      3724\n",
      "          8       1.00      1.00      1.00      3731\n",
      "          9       1.00      1.00      1.00      3820\n",
      "\n",
      "avg / total       1.00      1.00      1.00     37500\n",
      "\n"
     ]
    }
   ],
   "source": [
    "# Evaluate TRAIN model class prediction accuracy\n",
    "print(\"[INFO] Evaluating network...\")\n",
    "trainPreds = model.predict(trainX, batch_size=batch_size)\n",
    "target_names = [str(x) for x in lb.classes_]\n",
    "print(classification_report(trainY.argmax(axis=1),\n",
    "                            trainPreds.argmax(axis=1),\n",
    "                            target_names=target_names))"
   ]
  },
  {
   "cell_type": "code",
   "execution_count": 37,
   "metadata": {},
   "outputs": [
    {
     "name": "stdout",
     "output_type": "stream",
     "text": [
      "Layer 0: <class 'keras.layers.convolutional.Conv2D'>\n",
      "    input=(None, 56, 56, 3)\n",
      "    output=(None, 7, 7, 32)\n",
      "    act=<function linear at 0x7fe20bc871e0>\n",
      "    strides=(8, 8)\n",
      "Layer 1: <class 'keras.layers.core.Activation'>\n",
      "    input=(None, 7, 7, 32)\n",
      "    output=(None, 7, 7, 32)\n",
      "    act=<function relu at 0x7fe20bc78f28>\n",
      "Layer 2: <class 'keras.layers.core.Dropout'>\n",
      "    input=(None, 7, 7, 32)\n",
      "    output=(None, 7, 7, 32)\n",
      "    rate=0.1\n",
      "Layer 3: <class 'keras.layers.convolutional.Conv2D'>\n",
      "    input=(None, 7, 7, 32)\n",
      "    output=(None, 5, 5, 64)\n",
      "    act=<function linear at 0x7fe20bc871e0>\n",
      "    strides=(1, 1)\n",
      "Layer 4: <class 'keras.layers.core.Activation'>\n",
      "    input=(None, 5, 5, 64)\n",
      "    output=(None, 5, 5, 64)\n",
      "    act=<function relu at 0x7fe20bc78f28>\n",
      "Layer 5: <class 'keras.layers.core.Dropout'>\n",
      "    input=(None, 5, 5, 64)\n",
      "    output=(None, 5, 5, 64)\n",
      "    rate=0.2\n",
      "Layer 6: <class 'keras.layers.core.Flatten'>\n",
      "    input=(None, 5, 5, 64)\n",
      "    output=(None, 1600)\n",
      "Layer 7: <class 'keras.layers.core.Dense'>\n",
      "    input=(None, 1600)\n",
      "    output=(None, 256)\n",
      "    act=<function linear at 0x7fe20bc871e0>\n",
      "Layer 8: <class 'keras.layers.core.Activation'>\n",
      "    input=(None, 256)\n",
      "    output=(None, 256)\n",
      "    act=<function relu at 0x7fe20bc78f28>\n",
      "Layer 9: <class 'keras.layers.core.Dropout'>\n",
      "    input=(None, 256)\n",
      "    output=(None, 256)\n",
      "    rate=0.3\n",
      "Layer 10: <class 'keras.layers.core.Dense'>\n",
      "    input=(None, 256)\n",
      "    output=(None, 10)\n",
      "    act=<function softmax at 0x7fe20bc78c80>\n"
     ]
    }
   ],
   "source": [
    "describe_model(model)"
   ]
  },
  {
   "cell_type": "code",
   "execution_count": 47,
   "metadata": {},
   "outputs": [
    {
     "name": "stdout",
     "output_type": "stream",
     "text": [
      "0.1\n",
      "{'seed': None, 'noise_shape': None, 'rate': 0.1, 'trainable': True, 'name': 'dropout_1'}\n"
     ]
    }
   ],
   "source": [
    "layer = model.layers[2]\n",
    "layer.rate = 0.1\n",
    "\n",
    "print(layer.rate)\n",
    "print(layer.get_config())"
   ]
  },
  {
   "cell_type": "code",
   "execution_count": null,
   "metadata": {},
   "outputs": [],
   "source": []
  },
  {
   "cell_type": "code",
   "execution_count": 11,
   "metadata": {},
   "outputs": [
    {
     "name": "stdout",
     "output_type": "stream",
     "text": [
      "6775 hits, 3225 misses (0.6775%)\n"
     ]
    }
   ],
   "source": [
    "preds = predictions.argmax(axis=1)\n",
    "targets = testY.argmax(axis=1)\n",
    "hits, misses = hits_and_misses(preds, targets)\n",
    "print('{0} hits, {1} misses ({2}%)'.format(len(hits), len(misses), len(hits)/float(len(predictions))))"
   ]
  },
  {
   "cell_type": "code",
   "execution_count": 16,
   "metadata": {},
   "outputs": [
    {
     "data": {
      "image/png": "[encoded data removed]",
      "text/plain": [
       "<Figure size 108x108 with 1 Axes>"
      ]
     },
     "metadata": {},
     "output_type": "display_data"
    },
    {
     "name": "stdout",
     "output_type": "stream",
     "text": [
      "Target: 0, Predicted: 3\n"
     ]
    }
   ],
   "source": [
    "# Look at examples of misses\n",
    "from imageutils import bgr2rgb\n",
    "idx = misses[random.randint(0,len(misses))]\n",
    "im = testX[idx]\n",
    "plt.figure(figsize=(1.5,1.5))\n",
    "plt.imshow(bgr2rgb(im))\n",
    "plt.show()\n",
    "print('Target: {0}, Predicted: {1}'.format(targets[idx], preds[idx]))\n"
   ]
  },
  {
   "cell_type": "code",
   "execution_count": 17,
   "metadata": {},
   "outputs": [
    {
     "data": {
      "image/png": "[encoded data removed]",
      "text/plain": [
       "<Figure size 108x108 with 1 Axes>"
      ]
     },
     "metadata": {},
     "output_type": "display_data"
    },
    {
     "name": "stdout",
     "output_type": "stream",
     "text": [
      "Target: 6, Predicted: 6\n"
     ]
    }
   ],
   "source": [
    "# Look at examples of hits\n",
    "from imageutils import bgr2rgb\n",
    "idx = hits[random.randint(0,len(hits))]\n",
    "im = testX[idx]\n",
    "plt.figure(figsize=(1.5,1.5))\n",
    "plt.imshow(bgr2rgb(im))\n",
    "plt.show()\n",
    "print('Target: {0}, Predicted: {1}'.format(targets[idx], preds[idx]))"
   ]
  },
  {
   "cell_type": "code",
   "execution_count": null,
   "metadata": {},
   "outputs": [],
   "source": []
  }
 ],
 "metadata": {
  "kernelspec": {
   "display_name": "Python 3",
   "language": "python",
   "name": "python3"
  },
  "language_info": {
   "codemirror_mode": {
    "name": "ipython",
    "version": 3
   },
   "file_extension": ".py",
   "mimetype": "text/x-python",
   "name": "python",
   "nbconvert_exporter": "python",
   "pygments_lexer": "ipython3",
   "version": "3.5.2"
  }
 },
 "nbformat": 4,
 "nbformat_minor": 2
}
