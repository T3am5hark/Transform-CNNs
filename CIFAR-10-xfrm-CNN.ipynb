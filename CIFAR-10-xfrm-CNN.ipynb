{
 "cells": [
  {
   "cell_type": "code",
   "execution_count": 1,
   "metadata": {},
   "outputs": [
    {
     "name": "stderr",
     "output_type": "stream",
     "text": [
      "/home/ubuntu/.virtualenvs/gpu2/lib/python3.5/site-packages/h5py/__init__.py:36: FutureWarning: Conversion of the second argument of issubdtype from `float` to `np.floating` is deprecated. In future, it will be treated as `np.float64 == np.dtype(float).type`.\n",
      "  from ._conv import register_converters as _register_converters\n",
      "Using TensorFlow backend.\n"
     ]
    }
   ],
   "source": [
    "%matplotlib inline\n",
    "from sklearn.preprocessing import LabelBinarizer\n",
    "from sklearn.model_selection import train_test_split\n",
    "from sklearn.metrics import classification_report\n",
    "from sklearn import datasets\n",
    "\n",
    "from keras.models import Sequential\n",
    "from keras.layers.core import Dense, Dropout, Activation, Flatten\n",
    "from keras.layers.convolutional import Conv2D, MaxPooling2D\n",
    "from keras.layers.normalization import BatchNormalization\n",
    "from keras import regularizers\n",
    "from keras.preprocessing.image import ImageDataGenerator\n",
    "\n",
    "from keras.datasets import cifar10\n",
    "\n",
    "from kerasutils import hits_and_misses, describe_model, plot_training_data\n",
    "from imageutils import block_dct\n",
    "from imageutils import dataset_transform_block_dct\n",
    "\n",
    "import matplotlib.pyplot as plt\n",
    "import numpy as np\n",
    "\n",
    "import random"
   ]
  },
  {
   "cell_type": "code",
   "execution_count": 2,
   "metadata": {},
   "outputs": [],
   "source": [
    "(trainX_orig, trainY_orig), (testX_orig, testY_orig) = cifar10.load_data()"
   ]
  },
  {
   "cell_type": "code",
   "execution_count": 3,
   "metadata": {},
   "outputs": [
    {
     "name": "stdout",
     "output_type": "stream",
     "text": [
      "['airplane', 'automobile', 'bird', 'cat', 'deer', 'dog', 'frog', 'horse', 'ship', 'truck']\n"
     ]
    }
   ],
   "source": [
    "cifar10_names = ['airplane', 'automobile', 'bird', 'cat', 'deer', \n",
    "                 'dog', 'frog', 'horse', 'ship', 'truck']\n",
    "print(cifar10_names)"
   ]
  },
  {
   "cell_type": "code",
   "execution_count": 4,
   "metadata": {},
   "outputs": [],
   "source": [
    "# Have to decimate training set size due to memory constraints?\n",
    "# (trainX, testX_dummy, trainY, testY_dummy) = train_test_split(trainX_orig, trainY_orig, test_size=0.25)"
   ]
  },
  {
   "cell_type": "code",
   "execution_count": 5,
   "metadata": {},
   "outputs": [],
   "source": [
    "trainX = trainX_orig\n",
    "trainY = trainY_orig\n",
    "testX = testX_orig\n",
    "testY = testY_orig"
   ]
  },
  {
   "cell_type": "code",
   "execution_count": 6,
   "metadata": {},
   "outputs": [
    {
     "name": "stdout",
     "output_type": "stream",
     "text": [
      "(50000, 32, 32, 3)\n",
      "(10000, 32, 32, 3)\n",
      "float64\n"
     ]
    }
   ],
   "source": [
    "trainX = trainX / 255.0\n",
    "testX = testX / 255.0\n",
    "print(trainX.shape)\n",
    "print(testX.shape)\n",
    "print(trainX.dtype)"
   ]
  },
  {
   "cell_type": "code",
   "execution_count": 7,
   "metadata": {},
   "outputs": [
    {
     "name": "stdout",
     "output_type": "stream",
     "text": [
      "(50000, 56, 56, 3)\n",
      "(10000, 56, 56, 3)\n"
     ]
    }
   ],
   "source": [
    "trainX = dataset_transform_block_dct(trainX,8,4)\n",
    "testX = dataset_transform_block_dct(testX,8,4)\n",
    "print(trainX.shape)\n",
    "print(testX.shape)"
   ]
  },
  {
   "cell_type": "code",
   "execution_count": 8,
   "metadata": {},
   "outputs": [
    {
     "name": "stdout",
     "output_type": "stream",
     "text": [
      "(50000, 10)\n",
      "(10000, 10)\n",
      "56 56 3\n"
     ]
    }
   ],
   "source": [
    "# Transform labels from int to one-hot vectors\n",
    "lb = LabelBinarizer()\n",
    "trainY = lb.fit_transform(trainY)\n",
    "testY = lb.fit_transform(testY)\n",
    "\n",
    "print(trainY.shape)\n",
    "print(testY.shape)\n",
    "n_classes = trainY.shape[1]\n",
    "height = trainX.shape[1]\n",
    "width = trainX.shape[2]\n",
    "channels = trainX.shape[3]\n",
    "\n",
    "print(height, width, channels)"
   ]
  },
  {
   "cell_type": "code",
   "execution_count": 9,
   "metadata": {},
   "outputs": [],
   "source": [
    "# \"Transform\" CNN architecture with Keras\n",
    "#regularizer = regularizers.l2(1e-5)\n",
    "# 73% first shot\n",
    "# 76% second pass\n",
    "regularizer=None\n",
    "model = Sequential()\n",
    "model.add(Conv2D(input_shape=(height,width,channels), filters=128,  \n",
    "                 use_bias=False, kernel_size=(5,5), strides=8,\n",
    "                 kernel_regularizer=regularizer))\n",
    "model.add(Activation('relu'))\n",
    "model.add(Dropout(0.5))\n",
    "model.add(Conv2D(filters=128,use_bias=True, kernel_size=(3,3),\n",
    "                 kernel_regularizer=regularizer))\n",
    "model.add(Activation('relu'))\n",
    "model.add(Dropout(0.5))\n",
    "model.add(Conv2D(filters=512,use_bias=True, kernel_size=(3,3),\n",
    "                 strides=2,\n",
    "                 kernel_regularizer=regularizer))\n",
    "model.add(Activation('relu'))\n",
    "model.add(Dropout(0.5))\n",
    "model.add(Flatten())\n",
    "#model.add(BatchNormalization())\n",
    "model.add(Dense(512, kernel_regularizer=regularizer))\n",
    "model.add(Activation('relu'))\n",
    "model.add(Dropout(0.5))\n",
    "#model.add(Dense(128, kernel_regularizer=regularizer))\n",
    "#model.add(Activation('relu'))\n",
    "#model.add(Dropout(0.5))\n",
    "#model.add(BatchNormalization())\n",
    "model.add(Dense(lb.classes_.shape[0], activation=\"softmax\"))\n",
    "model.compile(loss='categorical_crossentropy', optimizer='adam', metrics=['accuracy'])"
   ]
  },
  {
   "cell_type": "code",
   "execution_count": 148,
   "metadata": {},
   "outputs": [],
   "source": [
    "# \"Transform\" CNN architecture with Keras\n",
    "regularizer = regularizers.l2(0.003)\n",
    "\n",
    "model = Sequential()\n",
    "model.add(Conv2D(input_shape=(height,width,channels), filters=64,  \n",
    "                 use_bias=True, kernel_size=(8,8), strides=8,\n",
    "                 kernel_regularizer=regularizer))\n",
    "model.add(Activation('relu'))\n",
    "#model.add(BatchNormalization())\n",
    "model.add(Dropout(0.1))\n",
    "#model.add(Conv2D(filters=192,use_bias=True, kernel_size=(3,3)))\n",
    "#model.add(Activation('relu'))\n",
    "#model.add(Dropout(0.4))\n",
    "model.add(Conv2D(filters=192,use_bias=True, kernel_size=(3,3),\n",
    "                 kernel_regularizer=regularizer))\n",
    "model.add(Activation('relu'))\n",
    "model.add(BatchNormalization())\n",
    "model.add(Dropout(0.1))\n",
    "model.add(Flatten())\n",
    "model.add(Dense(512, kernel_regularizer=regularizer))\n",
    "model.add(Activation('relu'))\n",
    "model.add(Dropout(0.3))\n",
    "#model.add(Dense(128))\n",
    "#model.add(Activation('relu'))\n",
    "#model.add(Dropout(0.5))\n",
    "#model.add(Dense(128))\n",
    "#model.add(Activation('relu'))\n",
    "#model.add(Dropout(0.5))\n",
    "model.add(Dense(lb.classes_.shape[0], activation=\"softmax\"))\n",
    "model.compile(loss='categorical_crossentropy', optimizer='adam', metrics=['accuracy'])"
   ]
  },
  {
   "cell_type": "code",
   "execution_count": null,
   "metadata": {},
   "outputs": [],
   "source": []
  },
  {
   "cell_type": "code",
   "execution_count": 12,
   "metadata": {},
   "outputs": [],
   "source": [
    "# Deeper architecture\n",
    "# https://arxiv.org/pdf/1412.6806.pdf\n",
    "model = Sequential()\n",
    "model.add(Conv2D(input_shape=(height,width,channels), filters=64,  \n",
    "                 use_bias=True, kernel_size=(8,8), strides=8))\n",
    "model.add(Activation('relu'))\n",
    "model.add(Dropout(0.2))\n",
    "model.add(Conv2D(filters=192, kernel_size=(3,3), strides=2))\n",
    "#model.add(Conv2D(filters=192, kernel_size=(3,3)))\n",
    "model.add(Activation('relu'))\n",
    "model.add(Dropout(0.2))\n",
    "model.add(Flatten())\n",
    "model.add(BatchNormalization())\n",
    "model.add(Dense(256))\n",
    "model.add(Activation('relu'))\n",
    "#model.add(BatchNormalization())\n",
    "model.add(Dropout(0.4))\n",
    "model.add(Dense(n_classes, activation=\"softmax\"))\n",
    "model.compile(loss='categorical_crossentropy', optimizer='adam', metrics=['accuracy'])"
   ]
  },
  {
   "cell_type": "code",
   "execution_count": 12,
   "metadata": {
    "scrolled": true
   },
   "outputs": [
    {
     "name": "stdout",
     "output_type": "stream",
     "text": [
      "Train on 50000 samples, validate on 10000 samples\n",
      "Epoch 1/20\n",
      "50000/50000 [==============================] - 8s 169us/step - loss: 0.6899 - acc: 0.7536 - val_loss: 0.6850 - val_acc: 0.7588\n",
      "Epoch 2/20\n",
      "50000/50000 [==============================] - 8s 164us/step - loss: 0.6858 - acc: 0.7566 - val_loss: 0.6964 - val_acc: 0.7572\n",
      "Epoch 3/20\n",
      "50000/50000 [==============================] - 8s 167us/step - loss: 0.6887 - acc: 0.7558 - val_loss: 0.6818 - val_acc: 0.7624\n",
      "Epoch 4/20\n",
      "50000/50000 [==============================] - 9s 172us/step - loss: 0.6876 - acc: 0.7560 - val_loss: 0.6843 - val_acc: 0.7615\n",
      "Epoch 5/20\n",
      "50000/50000 [==============================] - 8s 168us/step - loss: 0.6825 - acc: 0.7571 - val_loss: 0.6835 - val_acc: 0.7625\n",
      "Epoch 6/20\n",
      "50000/50000 [==============================] - 9s 170us/step - loss: 0.6846 - acc: 0.7574 - val_loss: 0.6789 - val_acc: 0.7637\n",
      "Epoch 7/20\n",
      "50000/50000 [==============================] - 9s 174us/step - loss: 0.6752 - acc: 0.7611 - val_loss: 0.6744 - val_acc: 0.7630\n",
      "Epoch 8/20\n",
      "50000/50000 [==============================] - 8s 169us/step - loss: 0.6763 - acc: 0.7609 - val_loss: 0.6770 - val_acc: 0.7637\n",
      "Epoch 9/20\n",
      "50000/50000 [==============================] - 9s 172us/step - loss: 0.6718 - acc: 0.7617 - val_loss: 0.6778 - val_acc: 0.7623\n",
      "Epoch 10/20\n",
      "50000/50000 [==============================] - 9s 173us/step - loss: 0.6658 - acc: 0.7624 - val_loss: 0.6707 - val_acc: 0.7645\n",
      "Epoch 11/20\n",
      "50000/50000 [==============================] - 9s 170us/step - loss: 0.6649 - acc: 0.7655 - val_loss: 0.6841 - val_acc: 0.7639\n",
      "Epoch 12/20\n",
      "50000/50000 [==============================] - 9s 173us/step - loss: 0.6647 - acc: 0.7646 - val_loss: 0.6737 - val_acc: 0.7643\n",
      "Epoch 13/20\n",
      "50000/50000 [==============================] - 8s 170us/step - loss: 0.6624 - acc: 0.7664 - val_loss: 0.6780 - val_acc: 0.7621\n",
      "Epoch 14/20\n",
      "50000/50000 [==============================] - 9s 174us/step - loss: 0.6620 - acc: 0.7650 - val_loss: 0.6823 - val_acc: 0.7596\n",
      "Epoch 15/20\n",
      "50000/50000 [==============================] - 9s 175us/step - loss: 0.6553 - acc: 0.7683 - val_loss: 0.6726 - val_acc: 0.7614\n",
      "Epoch 16/20\n",
      "50000/50000 [==============================] - 9s 176us/step - loss: 0.6586 - acc: 0.7673 - val_loss: 0.6662 - val_acc: 0.7668\n",
      "Epoch 17/20\n",
      "50000/50000 [==============================] - 9s 174us/step - loss: 0.6527 - acc: 0.7686 - val_loss: 0.6683 - val_acc: 0.7641\n",
      "Epoch 18/20\n",
      "50000/50000 [==============================] - 9s 173us/step - loss: 0.6539 - acc: 0.7660 - val_loss: 0.6770 - val_acc: 0.7649\n",
      "Epoch 19/20\n",
      "50000/50000 [==============================] - 9s 176us/step - loss: 0.6492 - acc: 0.7691 - val_loss: 0.6702 - val_acc: 0.7696\n",
      "Epoch 20/20\n",
      "50000/50000 [==============================] - 9s 171us/step - loss: 0.6453 - acc: 0.7691 - val_loss: 0.6788 - val_acc: 0.7623\n",
      "Done!!!\n"
     ]
    }
   ],
   "source": [
    "n_epochs = 20\n",
    "batch_size = 512\n",
    "H = model.fit(trainX, trainY, validation_data=(testX, testY), \n",
    "              epochs=n_epochs, batch_size=batch_size)\n",
    "print('Done!!!')"
   ]
  },
  {
   "cell_type": "code",
   "execution_count": 13,
   "metadata": {
    "scrolled": false
   },
   "outputs": [
    {
     "data": {
      "image/png": "[encoded data removed]",
      "text/plain": [
       "<Figure size 576x360 with 1 Axes>"
      ]
     },
     "metadata": {},
     "output_type": "display_data"
    }
   ],
   "source": [
    "plot_training_data(H)"
   ]
  },
  {
   "cell_type": "code",
   "execution_count": 14,
   "metadata": {
    "scrolled": true
   },
   "outputs": [
    {
     "name": "stdout",
     "output_type": "stream",
     "text": [
      "[INFO] Evaluating network...\n",
      "             precision    recall  f1-score   support\n",
      "\n",
      "   airplane       0.84      0.75      0.79      1000\n",
      " automobile       0.84      0.88      0.86      1000\n",
      "       bird       0.79      0.60      0.68      1000\n",
      "        cat       0.62      0.53      0.57      1000\n",
      "       deer       0.71      0.76      0.73      1000\n",
      "        dog       0.63      0.67      0.65      1000\n",
      "       frog       0.78      0.88      0.83      1000\n",
      "      horse       0.81      0.80      0.81      1000\n",
      "       ship       0.82      0.89      0.85      1000\n",
      "      truck       0.77      0.86      0.81      1000\n",
      "\n",
      "avg / total       0.76      0.76      0.76     10000\n",
      "\n"
     ]
    }
   ],
   "source": [
    "# Evaluate TEST model class prediction accuracy\n",
    "print(\"[INFO] Evaluating network...\")\n",
    "predictions = model.predict(testX, batch_size=batch_size)\n",
    "target_names = [str(x) for x in lb.classes_]\n",
    "print(classification_report(testY.argmax(axis=1),\n",
    "                            predictions.argmax(axis=1),\n",
    "                            target_names=cifar10_names))\n"
   ]
  },
  {
   "cell_type": "code",
   "execution_count": 15,
   "metadata": {},
   "outputs": [
    {
     "name": "stdout",
     "output_type": "stream",
     "text": [
      "[INFO] Evaluating network...\n",
      "             precision    recall  f1-score   support\n",
      "\n",
      "   airplane       0.95      0.92      0.93      5000\n",
      " automobile       0.96      0.97      0.96      5000\n",
      "       bird       0.95      0.83      0.89      5000\n",
      "        cat       0.86      0.79      0.82      5000\n",
      "       deer       0.87      0.93      0.90      5000\n",
      "        dog       0.83      0.85      0.84      5000\n",
      "       frog       0.92      0.96      0.94      5000\n",
      "      horse       0.94      0.94      0.94      5000\n",
      "       ship       0.94      0.98      0.96      5000\n",
      "      truck       0.93      0.97      0.95      5000\n",
      "\n",
      "avg / total       0.91      0.91      0.91     50000\n",
      "\n"
     ]
    }
   ],
   "source": [
    "# Evaluate TRAIN model class prediction accuracy\n",
    "print(\"[INFO] Evaluating network...\")\n",
    "trainPreds = model.predict(trainX, batch_size=batch_size)\n",
    "target_names = [str(x) for x in lb.classes_]\n",
    "print(classification_report(trainY.argmax(axis=1),\n",
    "                            trainPreds.argmax(axis=1),\n",
    "                            target_names=cifar10_names))"
   ]
  },
  {
   "cell_type": "code",
   "execution_count": 16,
   "metadata": {},
   "outputs": [
    {
     "name": "stdout",
     "output_type": "stream",
     "text": [
      "Layer 0: <class 'keras.layers.convolutional.Conv2D'>\n",
      "    input=(None, 56, 56, 3)\n",
      "    output=(None, 7, 7, 128)\n",
      "    act=<function linear at 0x7f844e78e1e0>\n",
      "    strides=(8, 8)\n",
      "Layer 1: <class 'keras.layers.core.Activation'>\n",
      "    input=(None, 7, 7, 128)\n",
      "    output=(None, 7, 7, 128)\n",
      "    act=<function relu at 0x7f844e800f28>\n",
      "Layer 2: <class 'keras.layers.core.Dropout'>\n",
      "    input=(None, 7, 7, 128)\n",
      "    output=(None, 7, 7, 128)\n",
      "    rate=0.5\n",
      "Layer 3: <class 'keras.layers.convolutional.Conv2D'>\n",
      "    input=(None, 7, 7, 128)\n",
      "    output=(None, 5, 5, 128)\n",
      "    act=<function linear at 0x7f844e78e1e0>\n",
      "    strides=(1, 1)\n",
      "Layer 4: <class 'keras.layers.core.Activation'>\n",
      "    input=(None, 5, 5, 128)\n",
      "    output=(None, 5, 5, 128)\n",
      "    act=<function relu at 0x7f844e800f28>\n",
      "Layer 5: <class 'keras.layers.core.Dropout'>\n",
      "    input=(None, 5, 5, 128)\n",
      "    output=(None, 5, 5, 128)\n",
      "    rate=0.5\n",
      "Layer 6: <class 'keras.layers.convolutional.Conv2D'>\n",
      "    input=(None, 5, 5, 128)\n",
      "    output=(None, 2, 2, 512)\n",
      "    act=<function linear at 0x7f844e78e1e0>\n",
      "    strides=(2, 2)\n",
      "Layer 7: <class 'keras.layers.core.Activation'>\n",
      "    input=(None, 2, 2, 512)\n",
      "    output=(None, 2, 2, 512)\n",
      "    act=<function relu at 0x7f844e800f28>\n",
      "Layer 8: <class 'keras.layers.core.Dropout'>\n",
      "    input=(None, 2, 2, 512)\n",
      "    output=(None, 2, 2, 512)\n",
      "    rate=0.5\n",
      "Layer 9: <class 'keras.layers.core.Flatten'>\n",
      "    input=(None, 2, 2, 512)\n",
      "    output=(None, 2048)\n",
      "Layer 10: <class 'keras.layers.core.Dense'>\n",
      "    input=(None, 2048)\n",
      "    output=(None, 512)\n",
      "    act=<function linear at 0x7f844e78e1e0>\n",
      "Layer 11: <class 'keras.layers.core.Activation'>\n",
      "    input=(None, 512)\n",
      "    output=(None, 512)\n",
      "    act=<function relu at 0x7f844e800f28>\n",
      "Layer 12: <class 'keras.layers.core.Dropout'>\n",
      "    input=(None, 512)\n",
      "    output=(None, 512)\n",
      "    rate=0.5\n",
      "Layer 13: <class 'keras.layers.core.Dense'>\n",
      "    input=(None, 512)\n",
      "    output=(None, 10)\n",
      "    act=<function softmax at 0x7f844e800c80>\n"
     ]
    }
   ],
   "source": [
    "describe_model(model)"
   ]
  },
  {
   "cell_type": "code",
   "execution_count": 47,
   "metadata": {},
   "outputs": [
    {
     "name": "stdout",
     "output_type": "stream",
     "text": [
      "0.1\n",
      "{'seed': None, 'noise_shape': None, 'rate': 0.1, 'trainable': True, 'name': 'dropout_1'}\n"
     ]
    }
   ],
   "source": [
    "layer = model.layers[2]\n",
    "layer.rate = 0.1\n",
    "\n",
    "print(layer.rate)\n",
    "print(layer.get_config())"
   ]
  },
  {
   "cell_type": "code",
   "execution_count": null,
   "metadata": {},
   "outputs": [],
   "source": [
    "class DctGenerator:\n",
    "    def __init__(noise=0.1):\n",
    "        self.noise=noise\n",
    "    \n",
    "    def flow()"
   ]
  },
  {
   "cell_type": "code",
   "execution_count": 10,
   "metadata": {
    "scrolled": false
   },
   "outputs": [
    {
     "name": "stdout",
     "output_type": "stream",
     "text": [
      "Using real-time data augmentation.\n",
      "Epoch 1/50\n",
      "147/147 [==============================] - 34s 230ms/step - loss: 3.7534 - acc: 0.2168 - val_loss: 2.9024 - val_acc: 0.2100\n",
      "Epoch 2/50\n",
      "147/147 [==============================] - 33s 225ms/step - loss: 2.2238 - acc: 0.2984 - val_loss: 2.0284 - val_acc: 0.3332\n",
      "Epoch 3/50\n",
      "147/147 [==============================] - 33s 224ms/step - loss: 2.0065 - acc: 0.3317 - val_loss: 2.0958 - val_acc: 0.2972\n",
      "Epoch 4/50\n",
      "147/147 [==============================] - 33s 224ms/step - loss: 1.9196 - acc: 0.3587 - val_loss: 1.8495 - val_acc: 0.3853\n",
      "Epoch 5/50\n",
      "147/147 [==============================] - 33s 223ms/step - loss: 1.8824 - acc: 0.3745 - val_loss: 1.9753 - val_acc: 0.3476\n",
      "Epoch 6/50\n",
      "147/147 [==============================] - 33s 224ms/step - loss: 1.8340 - acc: 0.3909 - val_loss: 1.8587 - val_acc: 0.3810\n",
      "Epoch 7/50\n",
      "147/147 [==============================] - 33s 223ms/step - loss: 1.8080 - acc: 0.3991 - val_loss: 1.7701 - val_acc: 0.4195\n",
      "Epoch 8/50\n",
      "147/147 [==============================] - 33s 225ms/step - loss: 1.7998 - acc: 0.4068 - val_loss: 1.7225 - val_acc: 0.4341\n",
      "Epoch 9/50\n",
      "147/147 [==============================] - 33s 224ms/step - loss: 1.7842 - acc: 0.4109 - val_loss: 1.9206 - val_acc: 0.3768\n",
      "Epoch 10/50\n",
      "147/147 [==============================] - 33s 224ms/step - loss: 1.7744 - acc: 0.4161 - val_loss: 1.8719 - val_acc: 0.3746\n",
      "Epoch 11/50\n",
      "147/147 [==============================] - 33s 223ms/step - loss: 1.7687 - acc: 0.4174 - val_loss: 1.8221 - val_acc: 0.3964\n",
      "Epoch 12/50\n",
      "147/147 [==============================] - 33s 225ms/step - loss: 1.7679 - acc: 0.4209 - val_loss: 1.7581 - val_acc: 0.4320\n",
      "Epoch 13/50\n",
      "147/147 [==============================] - 33s 223ms/step - loss: 1.7495 - acc: 0.4255 - val_loss: 1.7124 - val_acc: 0.4434\n",
      "Epoch 14/50\n",
      "147/147 [==============================] - 33s 225ms/step - loss: 1.7464 - acc: 0.4325 - val_loss: 1.9414 - val_acc: 0.3628\n",
      "Epoch 15/50\n",
      "147/147 [==============================] - 33s 222ms/step - loss: 1.7494 - acc: 0.4267 - val_loss: 1.7519 - val_acc: 0.4320\n",
      "Epoch 16/50\n",
      "147/147 [==============================] - 33s 225ms/step - loss: 1.7404 - acc: 0.4351 - val_loss: 1.7592 - val_acc: 0.4244\n",
      "Epoch 17/50\n",
      "147/147 [==============================] - 33s 225ms/step - loss: 1.7364 - acc: 0.4382 - val_loss: 1.7020 - val_acc: 0.4523\n",
      "Epoch 18/50\n",
      "147/147 [==============================] - 33s 224ms/step - loss: 1.7369 - acc: 0.4376 - val_loss: 2.0579 - val_acc: 0.3442\n",
      "Epoch 19/50\n",
      "147/147 [==============================] - 33s 225ms/step - loss: 1.7320 - acc: 0.4376 - val_loss: 1.7804 - val_acc: 0.4243\n",
      "Epoch 20/50\n",
      "147/147 [==============================] - 33s 224ms/step - loss: 1.7255 - acc: 0.4383 - val_loss: 1.7983 - val_acc: 0.4175\n",
      "Epoch 21/50\n",
      "147/147 [==============================] - 33s 224ms/step - loss: 1.7291 - acc: 0.4395 - val_loss: 1.6960 - val_acc: 0.4506\n",
      "Epoch 22/50\n",
      "147/147 [==============================] - 33s 224ms/step - loss: 1.7254 - acc: 0.4442 - val_loss: 1.6410 - val_acc: 0.4693\n",
      "Epoch 23/50\n",
      " 82/147 [===============>..............] - ETA: 14s - loss: 1.7144 - acc: 0.4467"
     ]
    },
    {
     "ename": "KeyboardInterrupt",
     "evalue": "",
     "output_type": "error",
     "traceback": [
      "\u001b[0;31m---------------------------------------------------------------------------\u001b[0m",
      "\u001b[0;31mKeyboardInterrupt\u001b[0m                         Traceback (most recent call last)",
      "\u001b[0;32m<ipython-input-10-116c48ea0fb2>\u001b[0m in \u001b[0;36m<module>\u001b[0;34m()\u001b[0m\n\u001b[1;32m     24\u001b[0m                                  batch_size=batch_size),\n\u001b[1;32m     25\u001b[0m                                  \u001b[0mepochs\u001b[0m\u001b[0;34m=\u001b[0m\u001b[0mn_epochs\u001b[0m\u001b[0;34m,\u001b[0m\u001b[0;34m\u001b[0m\u001b[0m\n\u001b[0;32m---> 26\u001b[0;31m                                  validation_data=(testX, testY))\n\u001b[0m\u001b[1;32m     27\u001b[0m \u001b[0;34m\u001b[0m\u001b[0m\n\u001b[1;32m     28\u001b[0m \u001b[0mprint\u001b[0m\u001b[0;34m(\u001b[0m\u001b[0;34m'Done!!!'\u001b[0m\u001b[0;34m)\u001b[0m\u001b[0;34m\u001b[0m\u001b[0m\n",
      "\u001b[0;32m~/.virtualenvs/gpu2/lib/python3.5/site-packages/keras/legacy/interfaces.py\u001b[0m in \u001b[0;36mwrapper\u001b[0;34m(*args, **kwargs)\u001b[0m\n\u001b[1;32m     89\u001b[0m                 warnings.warn('Update your `' + object_name +\n\u001b[1;32m     90\u001b[0m                               '` call to the Keras 2 API: ' + signature, stacklevel=2)\n\u001b[0;32m---> 91\u001b[0;31m             \u001b[0;32mreturn\u001b[0m \u001b[0mfunc\u001b[0m\u001b[0;34m(\u001b[0m\u001b[0;34m*\u001b[0m\u001b[0margs\u001b[0m\u001b[0;34m,\u001b[0m \u001b[0;34m**\u001b[0m\u001b[0mkwargs\u001b[0m\u001b[0;34m)\u001b[0m\u001b[0;34m\u001b[0m\u001b[0m\n\u001b[0m\u001b[1;32m     92\u001b[0m         \u001b[0mwrapper\u001b[0m\u001b[0;34m.\u001b[0m\u001b[0m_original_function\u001b[0m \u001b[0;34m=\u001b[0m \u001b[0mfunc\u001b[0m\u001b[0;34m\u001b[0m\u001b[0m\n\u001b[1;32m     93\u001b[0m         \u001b[0;32mreturn\u001b[0m \u001b[0mwrapper\u001b[0m\u001b[0;34m\u001b[0m\u001b[0m\n",
      "\u001b[0;32m~/.virtualenvs/gpu2/lib/python3.5/site-packages/keras/models.py\u001b[0m in \u001b[0;36mfit_generator\u001b[0;34m(self, generator, steps_per_epoch, epochs, verbose, callbacks, validation_data, validation_steps, class_weight, max_queue_size, workers, use_multiprocessing, shuffle, initial_epoch)\u001b[0m\n\u001b[1;32m   1274\u001b[0m                                         \u001b[0muse_multiprocessing\u001b[0m\u001b[0;34m=\u001b[0m\u001b[0muse_multiprocessing\u001b[0m\u001b[0;34m,\u001b[0m\u001b[0;34m\u001b[0m\u001b[0m\n\u001b[1;32m   1275\u001b[0m                                         \u001b[0mshuffle\u001b[0m\u001b[0;34m=\u001b[0m\u001b[0mshuffle\u001b[0m\u001b[0;34m,\u001b[0m\u001b[0;34m\u001b[0m\u001b[0m\n\u001b[0;32m-> 1276\u001b[0;31m                                         initial_epoch=initial_epoch)\n\u001b[0m\u001b[1;32m   1277\u001b[0m \u001b[0;34m\u001b[0m\u001b[0m\n\u001b[1;32m   1278\u001b[0m     \u001b[0;34m@\u001b[0m\u001b[0minterfaces\u001b[0m\u001b[0;34m.\u001b[0m\u001b[0mlegacy_generator_methods_support\u001b[0m\u001b[0;34m\u001b[0m\u001b[0m\n",
      "\u001b[0;32m~/.virtualenvs/gpu2/lib/python3.5/site-packages/keras/legacy/interfaces.py\u001b[0m in \u001b[0;36mwrapper\u001b[0;34m(*args, **kwargs)\u001b[0m\n\u001b[1;32m     89\u001b[0m                 warnings.warn('Update your `' + object_name +\n\u001b[1;32m     90\u001b[0m                               '` call to the Keras 2 API: ' + signature, stacklevel=2)\n\u001b[0;32m---> 91\u001b[0;31m             \u001b[0;32mreturn\u001b[0m \u001b[0mfunc\u001b[0m\u001b[0;34m(\u001b[0m\u001b[0;34m*\u001b[0m\u001b[0margs\u001b[0m\u001b[0;34m,\u001b[0m \u001b[0;34m**\u001b[0m\u001b[0mkwargs\u001b[0m\u001b[0;34m)\u001b[0m\u001b[0;34m\u001b[0m\u001b[0m\n\u001b[0m\u001b[1;32m     92\u001b[0m         \u001b[0mwrapper\u001b[0m\u001b[0;34m.\u001b[0m\u001b[0m_original_function\u001b[0m \u001b[0;34m=\u001b[0m \u001b[0mfunc\u001b[0m\u001b[0;34m\u001b[0m\u001b[0m\n\u001b[1;32m     93\u001b[0m         \u001b[0;32mreturn\u001b[0m \u001b[0mwrapper\u001b[0m\u001b[0;34m\u001b[0m\u001b[0m\n",
      "\u001b[0;32m~/.virtualenvs/gpu2/lib/python3.5/site-packages/keras/engine/training.py\u001b[0m in \u001b[0;36mfit_generator\u001b[0;34m(self, generator, steps_per_epoch, epochs, verbose, callbacks, validation_data, validation_steps, class_weight, max_queue_size, workers, use_multiprocessing, shuffle, initial_epoch)\u001b[0m\n\u001b[1;32m   2222\u001b[0m                     outs = self.train_on_batch(x, y,\n\u001b[1;32m   2223\u001b[0m                                                \u001b[0msample_weight\u001b[0m\u001b[0;34m=\u001b[0m\u001b[0msample_weight\u001b[0m\u001b[0;34m,\u001b[0m\u001b[0;34m\u001b[0m\u001b[0m\n\u001b[0;32m-> 2224\u001b[0;31m                                                class_weight=class_weight)\n\u001b[0m\u001b[1;32m   2225\u001b[0m \u001b[0;34m\u001b[0m\u001b[0m\n\u001b[1;32m   2226\u001b[0m                     \u001b[0;32mif\u001b[0m \u001b[0;32mnot\u001b[0m \u001b[0misinstance\u001b[0m\u001b[0;34m(\u001b[0m\u001b[0mouts\u001b[0m\u001b[0;34m,\u001b[0m \u001b[0mlist\u001b[0m\u001b[0;34m)\u001b[0m\u001b[0;34m:\u001b[0m\u001b[0;34m\u001b[0m\u001b[0m\n",
      "\u001b[0;32m~/.virtualenvs/gpu2/lib/python3.5/site-packages/keras/engine/training.py\u001b[0m in \u001b[0;36mtrain_on_batch\u001b[0;34m(self, x, y, sample_weight, class_weight)\u001b[0m\n\u001b[1;32m   1881\u001b[0m             \u001b[0mins\u001b[0m \u001b[0;34m=\u001b[0m \u001b[0mx\u001b[0m \u001b[0;34m+\u001b[0m \u001b[0my\u001b[0m \u001b[0;34m+\u001b[0m \u001b[0msample_weights\u001b[0m\u001b[0;34m\u001b[0m\u001b[0m\n\u001b[1;32m   1882\u001b[0m         \u001b[0mself\u001b[0m\u001b[0;34m.\u001b[0m\u001b[0m_make_train_function\u001b[0m\u001b[0;34m(\u001b[0m\u001b[0;34m)\u001b[0m\u001b[0;34m\u001b[0m\u001b[0m\n\u001b[0;32m-> 1883\u001b[0;31m         \u001b[0moutputs\u001b[0m \u001b[0;34m=\u001b[0m \u001b[0mself\u001b[0m\u001b[0;34m.\u001b[0m\u001b[0mtrain_function\u001b[0m\u001b[0;34m(\u001b[0m\u001b[0mins\u001b[0m\u001b[0;34m)\u001b[0m\u001b[0;34m\u001b[0m\u001b[0m\n\u001b[0m\u001b[1;32m   1884\u001b[0m         \u001b[0;32mif\u001b[0m \u001b[0mlen\u001b[0m\u001b[0;34m(\u001b[0m\u001b[0moutputs\u001b[0m\u001b[0;34m)\u001b[0m \u001b[0;34m==\u001b[0m \u001b[0;36m1\u001b[0m\u001b[0;34m:\u001b[0m\u001b[0;34m\u001b[0m\u001b[0m\n\u001b[1;32m   1885\u001b[0m             \u001b[0;32mreturn\u001b[0m \u001b[0moutputs\u001b[0m\u001b[0;34m[\u001b[0m\u001b[0;36m0\u001b[0m\u001b[0;34m]\u001b[0m\u001b[0;34m\u001b[0m\u001b[0m\n",
      "\u001b[0;32m~/.virtualenvs/gpu2/lib/python3.5/site-packages/keras/backend/tensorflow_backend.py\u001b[0m in \u001b[0;36m__call__\u001b[0;34m(self, inputs)\u001b[0m\n\u001b[1;32m   2476\u001b[0m         \u001b[0msession\u001b[0m \u001b[0;34m=\u001b[0m \u001b[0mget_session\u001b[0m\u001b[0;34m(\u001b[0m\u001b[0;34m)\u001b[0m\u001b[0;34m\u001b[0m\u001b[0m\n\u001b[1;32m   2477\u001b[0m         updated = session.run(fetches=fetches, feed_dict=feed_dict,\n\u001b[0;32m-> 2478\u001b[0;31m                               **self.session_kwargs)\n\u001b[0m\u001b[1;32m   2479\u001b[0m         \u001b[0;32mreturn\u001b[0m \u001b[0mupdated\u001b[0m\u001b[0;34m[\u001b[0m\u001b[0;34m:\u001b[0m\u001b[0mlen\u001b[0m\u001b[0;34m(\u001b[0m\u001b[0mself\u001b[0m\u001b[0;34m.\u001b[0m\u001b[0moutputs\u001b[0m\u001b[0;34m)\u001b[0m\u001b[0;34m]\u001b[0m\u001b[0;34m\u001b[0m\u001b[0m\n\u001b[1;32m   2480\u001b[0m \u001b[0;34m\u001b[0m\u001b[0m\n",
      "\u001b[0;32m~/.virtualenvs/gpu2/lib/python3.5/site-packages/tensorflow/python/client/session.py\u001b[0m in \u001b[0;36mrun\u001b[0;34m(self, fetches, feed_dict, options, run_metadata)\u001b[0m\n\u001b[1;32m    903\u001b[0m     \u001b[0;32mtry\u001b[0m\u001b[0;34m:\u001b[0m\u001b[0;34m\u001b[0m\u001b[0m\n\u001b[1;32m    904\u001b[0m       result = self._run(None, fetches, feed_dict, options_ptr,\n\u001b[0;32m--> 905\u001b[0;31m                          run_metadata_ptr)\n\u001b[0m\u001b[1;32m    906\u001b[0m       \u001b[0;32mif\u001b[0m \u001b[0mrun_metadata\u001b[0m\u001b[0;34m:\u001b[0m\u001b[0;34m\u001b[0m\u001b[0m\n\u001b[1;32m    907\u001b[0m         \u001b[0mproto_data\u001b[0m \u001b[0;34m=\u001b[0m \u001b[0mtf_session\u001b[0m\u001b[0;34m.\u001b[0m\u001b[0mTF_GetBuffer\u001b[0m\u001b[0;34m(\u001b[0m\u001b[0mrun_metadata_ptr\u001b[0m\u001b[0;34m)\u001b[0m\u001b[0;34m\u001b[0m\u001b[0m\n",
      "\u001b[0;32m~/.virtualenvs/gpu2/lib/python3.5/site-packages/tensorflow/python/client/session.py\u001b[0m in \u001b[0;36m_run\u001b[0;34m(self, handle, fetches, feed_dict, options, run_metadata)\u001b[0m\n\u001b[1;32m   1138\u001b[0m     \u001b[0;32mif\u001b[0m \u001b[0mfinal_fetches\u001b[0m \u001b[0;32mor\u001b[0m \u001b[0mfinal_targets\u001b[0m \u001b[0;32mor\u001b[0m \u001b[0;34m(\u001b[0m\u001b[0mhandle\u001b[0m \u001b[0;32mand\u001b[0m \u001b[0mfeed_dict_tensor\u001b[0m\u001b[0;34m)\u001b[0m\u001b[0;34m:\u001b[0m\u001b[0;34m\u001b[0m\u001b[0m\n\u001b[1;32m   1139\u001b[0m       results = self._do_run(handle, final_targets, final_fetches,\n\u001b[0;32m-> 1140\u001b[0;31m                              feed_dict_tensor, options, run_metadata)\n\u001b[0m\u001b[1;32m   1141\u001b[0m     \u001b[0;32melse\u001b[0m\u001b[0;34m:\u001b[0m\u001b[0;34m\u001b[0m\u001b[0m\n\u001b[1;32m   1142\u001b[0m       \u001b[0mresults\u001b[0m \u001b[0;34m=\u001b[0m \u001b[0;34m[\u001b[0m\u001b[0;34m]\u001b[0m\u001b[0;34m\u001b[0m\u001b[0m\n",
      "\u001b[0;32m~/.virtualenvs/gpu2/lib/python3.5/site-packages/tensorflow/python/client/session.py\u001b[0m in \u001b[0;36m_do_run\u001b[0;34m(self, handle, target_list, fetch_list, feed_dict, options, run_metadata)\u001b[0m\n\u001b[1;32m   1319\u001b[0m     \u001b[0;32mif\u001b[0m \u001b[0mhandle\u001b[0m \u001b[0;32mis\u001b[0m \u001b[0;32mNone\u001b[0m\u001b[0;34m:\u001b[0m\u001b[0;34m\u001b[0m\u001b[0m\n\u001b[1;32m   1320\u001b[0m       return self._do_call(_run_fn, feeds, fetches, targets, options,\n\u001b[0;32m-> 1321\u001b[0;31m                            run_metadata)\n\u001b[0m\u001b[1;32m   1322\u001b[0m     \u001b[0;32melse\u001b[0m\u001b[0;34m:\u001b[0m\u001b[0;34m\u001b[0m\u001b[0m\n\u001b[1;32m   1323\u001b[0m       \u001b[0;32mreturn\u001b[0m \u001b[0mself\u001b[0m\u001b[0;34m.\u001b[0m\u001b[0m_do_call\u001b[0m\u001b[0;34m(\u001b[0m\u001b[0m_prun_fn\u001b[0m\u001b[0;34m,\u001b[0m \u001b[0mhandle\u001b[0m\u001b[0;34m,\u001b[0m \u001b[0mfeeds\u001b[0m\u001b[0;34m,\u001b[0m \u001b[0mfetches\u001b[0m\u001b[0;34m)\u001b[0m\u001b[0;34m\u001b[0m\u001b[0m\n",
      "\u001b[0;32m~/.virtualenvs/gpu2/lib/python3.5/site-packages/tensorflow/python/client/session.py\u001b[0m in \u001b[0;36m_do_call\u001b[0;34m(self, fn, *args)\u001b[0m\n\u001b[1;32m   1325\u001b[0m   \u001b[0;32mdef\u001b[0m \u001b[0m_do_call\u001b[0m\u001b[0;34m(\u001b[0m\u001b[0mself\u001b[0m\u001b[0;34m,\u001b[0m \u001b[0mfn\u001b[0m\u001b[0;34m,\u001b[0m \u001b[0;34m*\u001b[0m\u001b[0margs\u001b[0m\u001b[0;34m)\u001b[0m\u001b[0;34m:\u001b[0m\u001b[0;34m\u001b[0m\u001b[0m\n\u001b[1;32m   1326\u001b[0m     \u001b[0;32mtry\u001b[0m\u001b[0;34m:\u001b[0m\u001b[0;34m\u001b[0m\u001b[0m\n\u001b[0;32m-> 1327\u001b[0;31m       \u001b[0;32mreturn\u001b[0m \u001b[0mfn\u001b[0m\u001b[0;34m(\u001b[0m\u001b[0;34m*\u001b[0m\u001b[0margs\u001b[0m\u001b[0;34m)\u001b[0m\u001b[0;34m\u001b[0m\u001b[0m\n\u001b[0m\u001b[1;32m   1328\u001b[0m     \u001b[0;32mexcept\u001b[0m \u001b[0merrors\u001b[0m\u001b[0;34m.\u001b[0m\u001b[0mOpError\u001b[0m \u001b[0;32mas\u001b[0m \u001b[0me\u001b[0m\u001b[0;34m:\u001b[0m\u001b[0;34m\u001b[0m\u001b[0m\n\u001b[1;32m   1329\u001b[0m       \u001b[0mmessage\u001b[0m \u001b[0;34m=\u001b[0m \u001b[0mcompat\u001b[0m\u001b[0;34m.\u001b[0m\u001b[0mas_text\u001b[0m\u001b[0;34m(\u001b[0m\u001b[0me\u001b[0m\u001b[0;34m.\u001b[0m\u001b[0mmessage\u001b[0m\u001b[0;34m)\u001b[0m\u001b[0;34m\u001b[0m\u001b[0m\n",
      "\u001b[0;32m~/.virtualenvs/gpu2/lib/python3.5/site-packages/tensorflow/python/client/session.py\u001b[0m in \u001b[0;36m_run_fn\u001b[0;34m(feed_dict, fetch_list, target_list, options, run_metadata)\u001b[0m\n\u001b[1;32m   1310\u001b[0m       \u001b[0mself\u001b[0m\u001b[0;34m.\u001b[0m\u001b[0m_extend_graph\u001b[0m\u001b[0;34m(\u001b[0m\u001b[0;34m)\u001b[0m\u001b[0;34m\u001b[0m\u001b[0m\n\u001b[1;32m   1311\u001b[0m       return self._call_tf_sessionrun(\n\u001b[0;32m-> 1312\u001b[0;31m           options, feed_dict, fetch_list, target_list, run_metadata)\n\u001b[0m\u001b[1;32m   1313\u001b[0m \u001b[0;34m\u001b[0m\u001b[0m\n\u001b[1;32m   1314\u001b[0m     \u001b[0;32mdef\u001b[0m \u001b[0m_prun_fn\u001b[0m\u001b[0;34m(\u001b[0m\u001b[0mhandle\u001b[0m\u001b[0;34m,\u001b[0m \u001b[0mfeed_dict\u001b[0m\u001b[0;34m,\u001b[0m \u001b[0mfetch_list\u001b[0m\u001b[0;34m)\u001b[0m\u001b[0;34m:\u001b[0m\u001b[0;34m\u001b[0m\u001b[0m\n",
      "\u001b[0;32m~/.virtualenvs/gpu2/lib/python3.5/site-packages/tensorflow/python/client/session.py\u001b[0m in \u001b[0;36m_call_tf_sessionrun\u001b[0;34m(self, options, feed_dict, fetch_list, target_list, run_metadata)\u001b[0m\n\u001b[1;32m   1418\u001b[0m         return tf_session.TF_Run(\n\u001b[1;32m   1419\u001b[0m             \u001b[0mself\u001b[0m\u001b[0;34m.\u001b[0m\u001b[0m_session\u001b[0m\u001b[0;34m,\u001b[0m \u001b[0moptions\u001b[0m\u001b[0;34m,\u001b[0m \u001b[0mfeed_dict\u001b[0m\u001b[0;34m,\u001b[0m \u001b[0mfetch_list\u001b[0m\u001b[0;34m,\u001b[0m \u001b[0mtarget_list\u001b[0m\u001b[0;34m,\u001b[0m\u001b[0;34m\u001b[0m\u001b[0m\n\u001b[0;32m-> 1420\u001b[0;31m             status, run_metadata)\n\u001b[0m\u001b[1;32m   1421\u001b[0m \u001b[0;34m\u001b[0m\u001b[0m\n\u001b[1;32m   1422\u001b[0m   \u001b[0;32mdef\u001b[0m \u001b[0m_call_tf_sessionprun\u001b[0m\u001b[0;34m(\u001b[0m\u001b[0mself\u001b[0m\u001b[0;34m,\u001b[0m \u001b[0mhandle\u001b[0m\u001b[0;34m,\u001b[0m \u001b[0mfeed_dict\u001b[0m\u001b[0;34m,\u001b[0m \u001b[0mfetch_list\u001b[0m\u001b[0;34m)\u001b[0m\u001b[0;34m:\u001b[0m\u001b[0;34m\u001b[0m\u001b[0m\n",
      "\u001b[0;31mKeyboardInterrupt\u001b[0m: "
     ]
    }
   ],
   "source": [
    "n_epochs = 50\n",
    "batch_size = 256\n",
    "\n",
    "print('Using real-time data augmentation.')\n",
    "# This will do preprocessing and realtime data augmentation:\n",
    "datagen = ImageDataGenerator(\n",
    "    featurewise_center=False,  # set input mean to 0 over the dataset\n",
    "    samplewise_center=False,  # set each sample mean to 0\n",
    "    featurewise_std_normalization=False,  # divide inputs by std of the dataset\n",
    "    samplewise_std_normalization=False,  # divide each input by its std\n",
    "    zca_whitening=False,  # apply ZCA whitening\n",
    "    zoom_range=0.2,     # zoom image\n",
    "    rotation_range=15,  # randomly rotate images in the range (degrees, 0 to 180)\n",
    "    width_shift_range=0.1,  # randomly shift images horizontally (fraction of total width)\n",
    "    height_shift_range=0.1,  # randomly shift images vertically (fraction of total height)\n",
    "    horizontal_flip=True,  # randomly flip images\n",
    "    vertical_flip=False)  # randomly flip images\n",
    "\n",
    "# Compute quantities required for feature-wise normalization\n",
    "# (std, mean, and principal components if ZCA whitening is applied).\n",
    "datagen.fit(trainX)\n",
    "\n",
    "# Fit the model on the batches generated by datagen.flow().\n",
    "model.fit_generator(datagen.flow(trainX, trainY,\n",
    "                                 batch_size=batch_size),\n",
    "                                 epochs=n_epochs,\n",
    "                                 validation_data=(testX, testY))\n",
    "\n",
    "print('Done!!!')"
   ]
  },
  {
   "cell_type": "code",
   "execution_count": null,
   "metadata": {},
   "outputs": [],
   "source": []
  },
  {
   "cell_type": "code",
   "execution_count": 17,
   "metadata": {},
   "outputs": [
    {
     "name": "stdout",
     "output_type": "stream",
     "text": [
      "7623 hits, 2377 misses (0.7623%)\n"
     ]
    }
   ],
   "source": [
    "preds = predictions.argmax(axis=1)\n",
    "targets = testY.argmax(axis=1)\n",
    "hits, misses = hits_and_misses(preds, targets)\n",
    "print('{0} hits, {1} misses ({2}%)'.format(len(hits), len(misses), len(hits)/float(len(predictions))))"
   ]
  },
  {
   "cell_type": "code",
   "execution_count": 88,
   "metadata": {},
   "outputs": [
    {
     "data": {
      "image/png": "[encoded data removed]",
      "text/plain": [
       "<Figure size 252x252 with 1 Axes>"
      ]
     },
     "metadata": {},
     "output_type": "display_data"
    },
    {
     "name": "stdout",
     "output_type": "stream",
     "text": [
      "Target: airplane, Predicted: airplane\n"
     ]
    }
   ],
   "source": [
    "# Look at examples of hits\n",
    "idx = hits[random.randint(0,len(hits))]\n",
    "im = testX_orig[idx]\n",
    "plt.figure(figsize=(3.5,3.5))\n",
    "plt.imshow(im)\n",
    "plt.show()\n",
    "print('Target: {0}, Predicted: {1}'.format(cifar10_names[targets[idx]], cifar10_names[preds[idx]]))"
   ]
  },
  {
   "cell_type": "code",
   "execution_count": 95,
   "metadata": {},
   "outputs": [
    {
     "data": {
      "image/png": "[encoded data removed]",
      "text/plain": [
       "<Figure size 252x252 with 1 Axes>"
      ]
     },
     "metadata": {},
     "output_type": "display_data"
    },
    {
     "name": "stdout",
     "output_type": "stream",
     "text": [
      "Target: horse, Predicted: deer\n"
     ]
    }
   ],
   "source": [
    "# Look at examples of misses\n",
    "idx = misses[random.randint(0,len(misses))]\n",
    "im = testX_orig[idx]\n",
    "plt.figure(figsize=(3.5,3.5))\n",
    "plt.imshow(im)\n",
    "plt.show()\n",
    "print('Target: {0}, Predicted: {1}'.format(cifar10_names[targets[idx]], cifar10_names[preds[idx]]))\n"
   ]
  },
  {
   "cell_type": "code",
   "execution_count": null,
   "metadata": {},
   "outputs": [],
   "source": []
  }
 ],
 "metadata": {
  "kernelspec": {
   "display_name": "Python 3",
   "language": "python",
   "name": "python3"
  },
  "language_info": {
   "codemirror_mode": {
    "name": "ipython",
    "version": 3
   },
   "file_extension": ".py",
   "mimetype": "text/x-python",
   "name": "python",
   "nbconvert_exporter": "python",
   "pygments_lexer": "ipython3",
   "version": "3.5.2"
  }
 },
 "nbformat": 4,
 "nbformat_minor": 2
}
