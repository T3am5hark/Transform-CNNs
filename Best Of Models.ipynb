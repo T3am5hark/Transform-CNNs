{
 "cells": [
  {
   "cell_type": "code",
   "execution_count": null,
   "metadata": {},
   "outputs": [],
   "source": [
    "# \"Transform\" CNN architecture with Keras\n",
    "#regularizer = regularizers.l2(1e-5)\n",
    "# 76% cifar10\n",
    "regularizer=None\n",
    "model = Sequential()\n",
    "model.add(Conv2D(input_shape=(height,width,channels), filters=64,  \n",
    "                 use_bias=True, kernel_size=(5,5), strides=8,\n",
    "                 kernel_regularizer=regularizer))\n",
    "model.add(Activation('relu'))\n",
    "model.add(Dropout(0.5))\n",
    "model.add(Conv2D(filters=128,use_bias=True, kernel_size=(3,3),\n",
    "                 padding='same',\n",
    "                 kernel_regularizer=regularizer))\n",
    "model.add(Activation('relu'))\n",
    "model.add(Dropout(0.5))\n",
    "model.add(Conv2D(filters=128,use_bias=True, kernel_size=(3,3),\n",
    "                 strides=2,\n",
    "                 kernel_regularizer=regularizer))\n",
    "model.add(Activation('relu'))\n",
    "model.add(Dropout(0.5))\n",
    "model.add(Flatten())\n",
    "#model.add(BatchNormalization())\n",
    "model.add(Dense(128, kernel_regularizer=regularizer))\n",
    "model.add(Activation('relu'))\n",
    "model.add(Dropout(0.5))\n",
    "#model.add(Dense(128, kernel_regularizer=regularizer))\n",
    "#model.add(Activation('relu'))\n",
    "#model.add(Dropout(0.5))\n",
    "#model.add(BatchNormalization())\n",
    "model.add(Dense(lb.classes_.shape[0], activation=\"softmax\"))\n",
    "model.compile(loss='categorical_crossentropy', optimizer='adam', metrics=['accuracy'])"
   ]
  },
  {
   "cell_type": "code",
   "execution_count": null,
   "metadata": {},
   "outputs": [],
   "source": []
  }
 ],
 "metadata": {
  "kernelspec": {
   "display_name": "Python 3",
   "language": "python",
   "name": "python3"
  },
  "language_info": {
   "codemirror_mode": {
    "name": "ipython",
    "version": 3
   },
   "file_extension": ".py",
   "mimetype": "text/x-python",
   "name": "python",
   "nbconvert_exporter": "python",
   "pygments_lexer": "ipython3",
   "version": "3.5.2"
  }
 },
 "nbformat": 4,
 "nbformat_minor": 2
}
